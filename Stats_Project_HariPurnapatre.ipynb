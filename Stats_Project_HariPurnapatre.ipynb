{
 "cells": [
  {
   "cell_type": "markdown",
   "id": "ce8e61f6",
   "metadata": {},
   "source": [
    "<h1><center> STATS PROJECT - HARI PURNAPATRE</center></h1>"
   ]
  },
  {
   "cell_type": "markdown",
   "id": "d9124959",
   "metadata": {},
   "source": [
    "#### This project is a part of the Rossmann Store Sales Prediction competition where I am predicting their daily sales for up to six weeks in advance. \n",
    "#### The store sales are influenced by many factors, including promotions, competition, school and state holidays, seasonality, and locality. With thousands of individual managers predicting sales based on their unique circumstances, the accuracy of results can be quite varied."
   ]
  },
  {
   "cell_type": "markdown",
   "id": "542bb637",
   "metadata": {},
   "source": [
    "### Files\n",
    "\n",
    "**train.csv - historical data including Sales**\n",
    "\n",
    "**test.csv - historical data excluding Sales**\n",
    "\n",
    "**sample_submission.csv - a sample submission file in the correct format**\n",
    "\n",
    "**store.csv - supplemental information about the stores**\n",
    "\n",
    "### Data fields\n",
    "\n",
    "**Most of the fields are self-explanatory. The following are descriptions for those that aren't.**\n",
    "\n",
    "**Id - an Id that represents a (Store, Date) duple within the test set**\n",
    "\n",
    "**Store - a unique Id for each store**\n",
    "\n",
    "**Sales - the turnover for any given day (this is what you are predicting)**\n",
    "\n",
    "**Customers - the number of customers on a given day**\n",
    "\n",
    "**Open - an indicator for whether the store was open: 0 = closed, 1 = open**\n",
    "\n",
    "**StateHoliday - indicates a state holiday. Normally all stores, with few exceptions, are closed on state holidays.**\n",
    "\n",
    "**Note that all schools are closed on public holidays and weekends. a = public holiday, b = Easter holiday, c = Christmas, 0 = None**\n",
    "\n",
    "**SchoolHoliday - indicates if the (Store, Date) was affected by the closure of public schools**\n",
    "\n",
    "**StoreType - differentiates between 4 different store models: a, b, c, d**\n",
    "\n",
    "**Assortment - describes an assortment level: a = basic, b = extra, c = extended**\n",
    "\n",
    "**CompetitionDistance - distance in meters to the nearest competitor store**\n",
    "\n",
    "**CompetitionOpenSince[Month/Year] - gives the approximate year and month of the time the nearest competitor was opened**\n",
    "\n",
    "**Promo - indicates whether a store is running a promo on that day**\n",
    "\n",
    "**Promo2 - Promo2 is a continuing and consecutive promotion for some stores: 0 = store is not participating, 1 = store is participating**\n",
    "\n",
    "**Promo2Since[Year/Week] - describes the year and calendar week when the store started participating in Promo2**\n",
    "\n",
    "**PromoInterval - describes the consecutive intervals Promo2 is started, naming the months the promotion is started anew. E.g. \"Feb,May,Aug,Nov\" means each round starts in February, May, August, November of any given year for that store**"
   ]
  },
  {
   "cell_type": "markdown",
   "id": "8f1ad635",
   "metadata": {},
   "source": [
    "## Import Libraries and Load Dataset"
   ]
  },
  {
   "cell_type": "code",
   "execution_count": 314,
   "id": "7637ad10",
   "metadata": {},
   "outputs": [],
   "source": [
    "import pandas as pd\n",
    "import numpy as np \n",
    "import matplotlib.pyplot as plt\n",
    "import seaborn as sns"
   ]
  },
  {
   "cell_type": "code",
   "execution_count": 315,
   "id": "9b69c301",
   "metadata": {},
   "outputs": [
    {
     "name": "stderr",
     "output_type": "stream",
     "text": [
      "/Users/haripurnapatre/opt/anaconda3/lib/python3.9/site-packages/IPython/core/interactiveshell.py:3444: DtypeWarning: Columns (7) have mixed types.Specify dtype option on import or set low_memory=False.\n",
      "  exec(code_obj, self.user_global_ns, self.user_ns)\n"
     ]
    }
   ],
   "source": [
    "df_store = pd.read_csv('/Users/haripurnapatre/rossmann-store-sales/store.csv')\n",
    "df_train = pd.read_csv('/Users/haripurnapatre/rossmann-store-sales/train.csv')\n",
    "df_test = pd.read_csv('/Users/haripurnapatre/rossmann-store-sales/test.csv')"
   ]
  },
  {
   "cell_type": "markdown",
   "id": "f5a25d8a",
   "metadata": {},
   "source": [
    "## Checking and cleaning duplicate values "
   ]
  },
  {
   "cell_type": "code",
   "execution_count": 316,
   "id": "1d2afe26",
   "metadata": {},
   "outputs": [
    {
     "name": "stdout",
     "output_type": "stream",
     "text": [
      "Train dataset has duplicates: True\n",
      "Store Dataset has duplicates: False\n"
     ]
    }
   ],
   "source": [
    "print('Train dataset has duplicates:',df_train['Store'].duplicated().any())\n",
    "print('Store Dataset has duplicates:',df_store['Store'].duplicated().any())"
   ]
  },
  {
   "cell_type": "code",
   "execution_count": 317,
   "id": "6bd92fd9",
   "metadata": {},
   "outputs": [],
   "source": [
    "df_train= df_train.drop_duplicates()"
   ]
  },
  {
   "cell_type": "markdown",
   "id": "97d28877",
   "metadata": {},
   "source": [
    "## Data Exploration, Cleaning and Visualization"
   ]
  },
  {
   "cell_type": "markdown",
   "id": "c367d58c",
   "metadata": {},
   "source": [
    "### For all stores, promotion leads to increased sales and customers."
   ]
  },
  {
   "cell_type": "code",
   "execution_count": 129,
   "id": "6957a838",
   "metadata": {},
   "outputs": [
    {
     "data": {
      "text/plain": [
       "<AxesSubplot:xlabel='Promo', ylabel='Customers'>"
      ]
     },
     "execution_count": 129,
     "metadata": {},
     "output_type": "execute_result"
    },
    {
     "data": {
      "image/png": "[encoded data removed]",
      "text/plain": [
       "<Figure size 1080x288 with 2 Axes>"
      ]
     },
     "metadata": {},
     "output_type": "display_data"
    }
   ],
   "source": [
    "sns.set(rc={'figure.figsize':(15,4)})\n",
    "f, axes = plt.subplots(1,2)\n",
    "sns.barplot(x=\"Promo\", y=\"Sales\", data=df_train, ax=axes[0])\n",
    "sns.barplot(x=\"Promo\", y=\"Customers\", data=df_train, ax=axes[1])"
   ]
  },
  {
   "cell_type": "code",
   "execution_count": 130,
   "id": "709e3ca6",
   "metadata": {},
   "outputs": [
    {
     "data": {
      "text/plain": [
       "0.0    100.0\n",
       "Name: StateHoliday, dtype: float64"
      ]
     },
     "execution_count": 130,
     "metadata": {},
     "output_type": "execute_result"
    }
   ],
   "source": [
    "df_train['StateHoliday'].value_counts(normalize=True)* 100"
   ]
  },
  {
   "cell_type": "code",
   "execution_count": 131,
   "id": "e6ed9702",
   "metadata": {},
   "outputs": [
    {
     "data": {
      "text/plain": [
       "0    80.642048\n",
       "1    19.357952\n",
       "Name: SchoolHoliday, dtype: float64"
      ]
     },
     "execution_count": 131,
     "metadata": {},
     "output_type": "execute_result"
    }
   ],
   "source": [
    "df_train['SchoolHoliday'].value_counts(normalize=True)* 100"
   ]
  },
  {
   "cell_type": "code",
   "execution_count": 132,
   "id": "89299eb5",
   "metadata": {},
   "outputs": [
    {
     "data": {
      "text/plain": [
       "0    0.0\n",
       "1    0.0\n",
       "Name: StateHoliday, dtype: float64"
      ]
     },
     "execution_count": 132,
     "metadata": {},
     "output_type": "execute_result"
    }
   ],
   "source": [
    "df_train['StateHoliday'].head(2)"
   ]
  },
  {
   "cell_type": "markdown",
   "id": "c1713154",
   "metadata": {},
   "source": [
    "**We can see that there state holidays are categorical and in the context of this problem we need to know whether there is a holiday or not.**  \n",
    "\n",
    "**So we will map values to clean this varibale to see how many state holidays there were throughout.** "
   ]
  },
  {
   "cell_type": "code",
   "execution_count": 318,
   "id": "98c43205",
   "metadata": {},
   "outputs": [],
   "source": [
    "m = {0: 0, \"0\": 0, \"a\": 1, \"b\": 1, \"c\": 1}\n",
    "df_train[\"StateHoliday\"] = df_train[\"StateHoliday\"].map(m)\n",
    "df_test[\"StateHoliday\"] = df_test[\"StateHoliday\"].map(m)\n",
    "df_store[\"Assortment\"] = df_store[\"Assortment\"].map(m)"
   ]
  },
  {
   "cell_type": "markdown",
   "id": "fe9633ba",
   "metadata": {},
   "source": [
    "**We can see that the Sales are more when the there is a School Holiday sales are more but when there is a State Holiday we can see that Sales Decline.**"
   ]
  },
  {
   "cell_type": "code",
   "execution_count": 319,
   "id": "a3b0685f",
   "metadata": {},
   "outputs": [
    {
     "data": {
      "text/plain": [
       "Text(0.5, 1.0, 'State Holiday')"
      ]
     },
     "execution_count": 319,
     "metadata": {},
     "output_type": "execute_result"
    },
    {
     "data": {
      "image/png": "[encoded data removed]",
      "text/plain": [
       "<Figure size 1080x288 with 2 Axes>"
      ]
     },
     "metadata": {},
     "output_type": "display_data"
    }
   ],
   "source": [
    "f, axes = plt.subplots(1, 2)\n",
    "sns.barplot(x=\"SchoolHoliday\", y=\"Sales\", data=df_train, ax=axes[0]).set_title('School Holiday')\n",
    "\n",
    "sns.barplot(x=\"StateHoliday\", y=\"Sales\", data=df_train, ax=axes[1]).set_title('State Holiday')"
   ]
  },
  {
   "cell_type": "markdown",
   "id": "2f98e7f2",
   "metadata": {},
   "source": [
    "**To further investgate the trend in sales and customers we will create some visualizations. But for that it is important to clean the Date columns first as ut will be easier to group by them.**"
   ]
  },
  {
   "cell_type": "code",
   "execution_count": 320,
   "id": "c6d69315",
   "metadata": {},
   "outputs": [],
   "source": [
    "df_train['year'] = pd.DatetimeIndex(df_train['Date']).year\n",
    "df_test['year'] = pd.DatetimeIndex(df_test['Date']).year\n",
    "\n",
    "df_train['month'] = pd.DatetimeIndex(df_train['Date']).month\n",
    "df_test['month'] = pd.DatetimeIndex(df_test['Date']).month"
   ]
  },
  {
   "cell_type": "markdown",
   "id": "b7c31979",
   "metadata": {},
   "source": [
    "**We can see that Sales spike a every December this would be because people buy gifts during Christmas. We can also observe that Customers and Sales are highly correlated as the graph show similar variation. We will explore this further ahead.**"
   ]
  },
  {
   "cell_type": "code",
   "execution_count": 321,
   "id": "5a6e169a",
   "metadata": {},
   "outputs": [],
   "source": [
    "meansales = df_train.groupby(['month','year'])[\"Sales\"].mean()\n",
    "custmean = df_train.groupby(['month','year'])[\"Customers\"].mean()"
   ]
  },
  {
   "cell_type": "code",
   "execution_count": 59,
   "id": "a86e612a",
   "metadata": {},
   "outputs": [
    {
     "data": {
      "image/png": "[encoded data removed]",
      "text/plain": [
       "<Figure size 1080x720 with 2 Axes>"
      ]
     },
     "metadata": {
      "needs_background": "light"
     },
     "output_type": "display_data"
    }
   ],
   "source": [
    "fig, (axes1,axes2) = plt.subplots(2,1, figsize=(15,10), sharex=True)\n",
    "axes1 = df_train.groupby(['year', 'month'])[\"Sales\"].mean().plot(legend =True, ax=axes1,title=\"Average Sales\", color = 'Black',marker = 'o')\n",
    "axes1.set_xticks(range(len(meansales)))\n",
    "df_train.groupby(['year', 'month'])[\"Customers\"].mean().plot(legend =True, ax=axes2,title=\"Percentage Change Sales\",marker = 'o')\n",
    "plt.xticks(rotation=90)\n",
    "plt.show()"
   ]
  },
  {
   "cell_type": "markdown",
   "id": "de12cee6",
   "metadata": {},
   "source": [
    "### Moving Averages to understand the trend."
   ]
  },
  {
   "cell_type": "code",
   "execution_count": 105,
   "id": "c80c32c6",
   "metadata": {},
   "outputs": [],
   "source": [
    "df_train['RollingMean'] = df_train['Sales'].rolling(window=5).mean()"
   ]
  },
  {
   "cell_type": "code",
   "execution_count": 106,
   "id": "c188c320",
   "metadata": {},
   "outputs": [],
   "source": [
    "df_train['RollingMean'] = df_train['RollingMean'].fillna(0)"
   ]
  },
  {
   "cell_type": "markdown",
   "id": "7932e2eb",
   "metadata": {},
   "source": [
    "**Rolling Averages or Moving Averages smooths out price trends by filtering out the noise from random short-term price fluctuations. This helps us understand seasonality in the data. We will make a feature from moving averages to help increase our score.**"
   ]
  },
  {
   "cell_type": "code",
   "execution_count": 107,
   "id": "6f38fe8c",
   "metadata": {},
   "outputs": [
    {
     "data": {
      "text/plain": [
       "<AxesSubplot:title={'center':'RollingMean'}, xlabel='month,year'>"
      ]
     },
     "execution_count": 107,
     "metadata": {},
     "output_type": "execute_result"
    },
    {
     "data": {
      "image/png": "[encoded data removed]",
      "text/plain": [
       "<Figure size 1080x288 with 1 Axes>"
      ]
     },
     "metadata": {},
     "output_type": "display_data"
    }
   ],
   "source": [
    "df_train.groupby(['month','year'])[\"RollingMean\"].mean().plot(legend =True, title=\"RollingMean\",marker = 'o')\n"
   ]
  },
  {
   "cell_type": "code",
   "execution_count": 108,
   "id": "1c6dfc28",
   "metadata": {},
   "outputs": [],
   "source": [
    "df_train = df_train.drop(columns = 'RollingMean')"
   ]
  },
  {
   "cell_type": "markdown",
   "id": "90caacd3",
   "metadata": {},
   "source": [
    "### For all stores, promotion leads to increased sales and customers."
   ]
  },
  {
   "cell_type": "code",
   "execution_count": 322,
   "id": "4d80ff4b",
   "metadata": {},
   "outputs": [
    {
     "data": {
      "text/plain": [
       "<AxesSubplot:xlabel='Promo', ylabel='Customers'>"
      ]
     },
     "execution_count": 322,
     "metadata": {},
     "output_type": "execute_result"
    },
    {
     "data": {
      "image/png": "[encoded data removed]",
      "text/plain": [
       "<Figure size 1080x288 with 2 Axes>"
      ]
     },
     "metadata": {},
     "output_type": "display_data"
    }
   ],
   "source": [
    "f, axes = plt.subplots(1, 2)\n",
    "sns.barplot(x=\"Promo\", y=\"Sales\", data=df_train, ax=axes[0])\n",
    "sns.barplot(x=\"Promo\", y=\"Customers\", data=df_train, ax=axes[1])"
   ]
  },
  {
   "cell_type": "markdown",
   "id": "cd5157ee",
   "metadata": {},
   "source": [
    "### We can see that the stores are mostly open during the weekdays so thats when most of the sales happens."
   ]
  },
  {
   "cell_type": "code",
   "execution_count": 85,
   "id": "3d182afe",
   "metadata": {},
   "outputs": [
    {
     "data": {
      "text/plain": [
       "<AxesSubplot:xlabel='Open', ylabel='count'>"
      ]
     },
     "execution_count": 85,
     "metadata": {},
     "output_type": "execute_result"
    },
    {
     "data": {
      "image/png": "[encoded data removed]",
      "text/plain": [
       "<Figure size 1080x288 with 1 Axes>"
      ]
     },
     "metadata": {
      "needs_background": "light"
     },
     "output_type": "display_data"
    }
   ],
   "source": [
    "fig, (axis1) = plt.subplots(1,1,figsize=(15,4))\n",
    "sns.countplot(x='Open',hue='DayOfWeek', data=df_train,palette=\"husl\", ax=axis1)"
   ]
  },
  {
   "cell_type": "markdown",
   "id": "9ac73a54",
   "metadata": {},
   "source": [
    "### Autocorrelation"
   ]
  },
  {
   "cell_type": "markdown",
   "id": "1b5d5f50",
   "metadata": {},
   "source": [
    "**Autocorrelation plot is designed to show whether the elements of a time series are positively correlated, negatively correlated, or independent of each other. On the graph, there is a vertical line (a \"spike\") corresponding to each lag. The height of each spike shows the value of the autocorrelation function for the lag.  Each spike is significantly different from zero, that is evidence of autocorrelation. This means that when sales price increases it tends to continue rising and when it falls it tends to continue to fall.**"
   ]
  },
  {
   "cell_type": "code",
   "execution_count": 86,
   "id": "a6dbdf88",
   "metadata": {},
   "outputs": [
    {
     "data": {
      "image/png": "[encoded data removed]",
      "text/plain": [
       "<Figure size 432x288 with 1 Axes>"
      ]
     },
     "execution_count": 86,
     "metadata": {},
     "output_type": "execute_result"
    },
    {
     "data": {
      "image/png": "[encoded data removed]",
      "text/plain": [
       "<Figure size 432x288 with 1 Axes>"
      ]
     },
     "metadata": {
      "needs_background": "light"
     },
     "output_type": "display_data"
    }
   ],
   "source": [
    "from statsmodels.graphics.tsaplots import plot_acf\n",
    "import statsmodels.api as sm\n",
    "temp = df_train[['Sales']]\n",
    "temp = pd.DataFrame(temp)\n",
    "plot_acf(temp)"
   ]
  },
  {
   "cell_type": "markdown",
   "id": "6f9b267a",
   "metadata": {},
   "source": [
    "**Another visualization to understand autocorrelation better.**"
   ]
  },
  {
   "cell_type": "code",
   "execution_count": 100,
   "id": "6a5f15c8",
   "metadata": {},
   "outputs": [],
   "source": [
    "avg_sales = df_train.groupby('Store')[[\"Sales\"]].mean()\n",
    "df_merge = pd.merge(avg_sales, df_store, on='Store')"
   ]
  },
  {
   "cell_type": "code",
   "execution_count": 109,
   "id": "8508a58f",
   "metadata": {},
   "outputs": [
    {
     "data": {
      "image/png": "[encoded data removed]",
      "text/plain": [
       "<Figure size 1080x288 with 1 Axes>"
      ]
     },
     "metadata": {},
     "output_type": "display_data"
    }
   ],
   "source": [
    "df_merge[\"Sales\"].plot(legend=True)\n",
    "shifted = df_merge[\"Sales\"].shift(10).plot(legend=True)\n",
    "shifted.legend(['Vancouver','Vancouver_lagged'])\n",
    "plt.show()"
   ]
  },
  {
   "cell_type": "markdown",
   "id": "e07be0b5",
   "metadata": {},
   "source": [
    "### We can see that whenever the stores are closed there is no sales so we will only take records of when the stores are open."
   ]
  },
  {
   "cell_type": "code",
   "execution_count": 174,
   "id": "f3ef58f2",
   "metadata": {},
   "outputs": [
    {
     "data": {
      "text/html": [
       "<div>\n",
       "<style scoped>\n",
       "    .dataframe tbody tr th:only-of-type {\n",
       "        vertical-align: middle;\n",
       "    }\n",
       "\n",
       "    .dataframe tbody tr th {\n",
       "        vertical-align: top;\n",
       "    }\n",
       "\n",
       "    .dataframe thead th {\n",
       "        text-align: right;\n",
       "    }\n",
       "</style>\n",
       "<table border=\"1\" class=\"dataframe\">\n",
       "  <thead>\n",
       "    <tr style=\"text-align: right;\">\n",
       "      <th></th>\n",
       "      <th>Store</th>\n",
       "      <th>DayOfWeek</th>\n",
       "      <th>Date</th>\n",
       "      <th>Sales</th>\n",
       "      <th>Customers</th>\n",
       "      <th>Open</th>\n",
       "      <th>Promo</th>\n",
       "      <th>StateHoliday</th>\n",
       "      <th>SchoolHoliday</th>\n",
       "      <th>year</th>\n",
       "      <th>month</th>\n",
       "    </tr>\n",
       "  </thead>\n",
       "  <tbody>\n",
       "    <tr>\n",
       "      <th>291</th>\n",
       "      <td>292</td>\n",
       "      <td>5</td>\n",
       "      <td>2015-07-31</td>\n",
       "      <td>0</td>\n",
       "      <td>0</td>\n",
       "      <td>0</td>\n",
       "      <td>1</td>\n",
       "      <td>0</td>\n",
       "      <td>1</td>\n",
       "      <td>2015</td>\n",
       "      <td>7</td>\n",
       "    </tr>\n",
       "    <tr>\n",
       "      <th>875</th>\n",
       "      <td>876</td>\n",
       "      <td>5</td>\n",
       "      <td>2015-07-31</td>\n",
       "      <td>0</td>\n",
       "      <td>0</td>\n",
       "      <td>0</td>\n",
       "      <td>1</td>\n",
       "      <td>0</td>\n",
       "      <td>1</td>\n",
       "      <td>2015</td>\n",
       "      <td>7</td>\n",
       "    </tr>\n",
       "    <tr>\n",
       "      <th>1406</th>\n",
       "      <td>292</td>\n",
       "      <td>4</td>\n",
       "      <td>2015-07-30</td>\n",
       "      <td>0</td>\n",
       "      <td>0</td>\n",
       "      <td>0</td>\n",
       "      <td>1</td>\n",
       "      <td>0</td>\n",
       "      <td>1</td>\n",
       "      <td>2015</td>\n",
       "      <td>7</td>\n",
       "    </tr>\n",
       "    <tr>\n",
       "      <th>1990</th>\n",
       "      <td>876</td>\n",
       "      <td>4</td>\n",
       "      <td>2015-07-30</td>\n",
       "      <td>0</td>\n",
       "      <td>0</td>\n",
       "      <td>0</td>\n",
       "      <td>1</td>\n",
       "      <td>0</td>\n",
       "      <td>1</td>\n",
       "      <td>2015</td>\n",
       "      <td>7</td>\n",
       "    </tr>\n",
       "    <tr>\n",
       "      <th>2521</th>\n",
       "      <td>292</td>\n",
       "      <td>3</td>\n",
       "      <td>2015-07-29</td>\n",
       "      <td>0</td>\n",
       "      <td>0</td>\n",
       "      <td>0</td>\n",
       "      <td>1</td>\n",
       "      <td>0</td>\n",
       "      <td>1</td>\n",
       "      <td>2015</td>\n",
       "      <td>7</td>\n",
       "    </tr>\n",
       "  </tbody>\n",
       "</table>\n",
       "</div>"
      ],
      "text/plain": [
       "      Store  DayOfWeek        Date  Sales  Customers  Open  Promo  \\\n",
       "291     292          5  2015-07-31      0          0     0      1   \n",
       "875     876          5  2015-07-31      0          0     0      1   \n",
       "1406    292          4  2015-07-30      0          0     0      1   \n",
       "1990    876          4  2015-07-30      0          0     0      1   \n",
       "2521    292          3  2015-07-29      0          0     0      1   \n",
       "\n",
       "      StateHoliday  SchoolHoliday  year  month  \n",
       "291              0              1  2015      7  \n",
       "875              0              1  2015      7  \n",
       "1406             0              1  2015      7  \n",
       "1990             0              1  2015      7  \n",
       "2521             0              1  2015      7  "
      ]
     },
     "execution_count": 174,
     "metadata": {},
     "output_type": "execute_result"
    }
   ],
   "source": [
    "df_train[df_train[\"Open\"] == 0].head(5)"
   ]
  },
  {
   "cell_type": "code",
   "execution_count": 323,
   "id": "666b43fe",
   "metadata": {},
   "outputs": [],
   "source": [
    "df_train = df_train[df_train[\"Open\"] != 0]"
   ]
  },
  {
   "cell_type": "markdown",
   "id": "6d587aa3",
   "metadata": {},
   "source": [
    "**By visualizations we can see that promo codes are null when stores are closed so we will replace them with 0.**"
   ]
  },
  {
   "cell_type": "code",
   "execution_count": 324,
   "id": "fbf2e5c2",
   "metadata": {},
   "outputs": [],
   "source": [
    "df_store[\"Promo2SinceWeek\"] = df_store[\"Promo2SinceWeek\"].fillna(0)\n",
    "df_store[\"Promo2SinceYear\"] = df_store[\"Promo2SinceYear\"].fillna(0)\n",
    "df_store[\"PromoInterval\"] = df_store[\"PromoInterval\"].fillna(0)"
   ]
  },
  {
   "cell_type": "markdown",
   "id": "cf532b93",
   "metadata": {},
   "source": [
    "**We will use one-hot encoding to convert PromoInterval to numerical variables and we will drop the first value to avoid the dummy-variable trap which introduces multi-collinearity.**"
   ]
  },
  {
   "cell_type": "code",
   "execution_count": 182,
   "id": "7f3ed652",
   "metadata": {},
   "outputs": [
    {
     "data": {
      "text/plain": [
       "0                   544\n",
       "Jan,Apr,Jul,Oct     335\n",
       "Feb,May,Aug,Nov     130\n",
       "Mar,Jun,Sept,Dec    106\n",
       "Name: PromoInterval, dtype: int64"
      ]
     },
     "execution_count": 182,
     "metadata": {},
     "output_type": "execute_result"
    }
   ],
   "source": [
    "df_store['PromoInterval'].value_counts()"
   ]
  },
  {
   "cell_type": "code",
   "execution_count": 325,
   "id": "deb62f2c",
   "metadata": {},
   "outputs": [
    {
     "data": {
      "text/html": [
       "<div>\n",
       "<style scoped>\n",
       "    .dataframe tbody tr th:only-of-type {\n",
       "        vertical-align: middle;\n",
       "    }\n",
       "\n",
       "    .dataframe tbody tr th {\n",
       "        vertical-align: top;\n",
       "    }\n",
       "\n",
       "    .dataframe thead th {\n",
       "        text-align: right;\n",
       "    }\n",
       "</style>\n",
       "<table border=\"1\" class=\"dataframe\">\n",
       "  <thead>\n",
       "    <tr style=\"text-align: right;\">\n",
       "      <th></th>\n",
       "      <th>Store</th>\n",
       "      <th>StoreType</th>\n",
       "      <th>Assortment</th>\n",
       "      <th>CompetitionDistance</th>\n",
       "      <th>CompetitionOpenSinceMonth</th>\n",
       "      <th>CompetitionOpenSinceYear</th>\n",
       "      <th>Promo2</th>\n",
       "      <th>Promo2SinceWeek</th>\n",
       "      <th>Promo2SinceYear</th>\n",
       "      <th>PromoInterval_Feb,May,Aug,Nov</th>\n",
       "      <th>PromoInterval_Jan,Apr,Jul,Oct</th>\n",
       "      <th>PromoInterval_Mar,Jun,Sept,Dec</th>\n",
       "    </tr>\n",
       "  </thead>\n",
       "  <tbody>\n",
       "    <tr>\n",
       "      <th>0</th>\n",
       "      <td>1</td>\n",
       "      <td>c</td>\n",
       "      <td>1</td>\n",
       "      <td>1270.0</td>\n",
       "      <td>9.0</td>\n",
       "      <td>2008.0</td>\n",
       "      <td>0</td>\n",
       "      <td>0.0</td>\n",
       "      <td>0.0</td>\n",
       "      <td>0</td>\n",
       "      <td>0</td>\n",
       "      <td>0</td>\n",
       "    </tr>\n",
       "    <tr>\n",
       "      <th>1</th>\n",
       "      <td>2</td>\n",
       "      <td>a</td>\n",
       "      <td>1</td>\n",
       "      <td>570.0</td>\n",
       "      <td>11.0</td>\n",
       "      <td>2007.0</td>\n",
       "      <td>1</td>\n",
       "      <td>13.0</td>\n",
       "      <td>2010.0</td>\n",
       "      <td>0</td>\n",
       "      <td>1</td>\n",
       "      <td>0</td>\n",
       "    </tr>\n",
       "    <tr>\n",
       "      <th>2</th>\n",
       "      <td>3</td>\n",
       "      <td>a</td>\n",
       "      <td>1</td>\n",
       "      <td>14130.0</td>\n",
       "      <td>12.0</td>\n",
       "      <td>2006.0</td>\n",
       "      <td>1</td>\n",
       "      <td>14.0</td>\n",
       "      <td>2011.0</td>\n",
       "      <td>0</td>\n",
       "      <td>1</td>\n",
       "      <td>0</td>\n",
       "    </tr>\n",
       "    <tr>\n",
       "      <th>3</th>\n",
       "      <td>4</td>\n",
       "      <td>c</td>\n",
       "      <td>1</td>\n",
       "      <td>620.0</td>\n",
       "      <td>9.0</td>\n",
       "      <td>2009.0</td>\n",
       "      <td>0</td>\n",
       "      <td>0.0</td>\n",
       "      <td>0.0</td>\n",
       "      <td>0</td>\n",
       "      <td>0</td>\n",
       "      <td>0</td>\n",
       "    </tr>\n",
       "    <tr>\n",
       "      <th>4</th>\n",
       "      <td>5</td>\n",
       "      <td>a</td>\n",
       "      <td>1</td>\n",
       "      <td>29910.0</td>\n",
       "      <td>4.0</td>\n",
       "      <td>2015.0</td>\n",
       "      <td>0</td>\n",
       "      <td>0.0</td>\n",
       "      <td>0.0</td>\n",
       "      <td>0</td>\n",
       "      <td>0</td>\n",
       "      <td>0</td>\n",
       "    </tr>\n",
       "  </tbody>\n",
       "</table>\n",
       "</div>"
      ],
      "text/plain": [
       "   Store StoreType  Assortment  CompetitionDistance  \\\n",
       "0      1         c           1               1270.0   \n",
       "1      2         a           1                570.0   \n",
       "2      3         a           1              14130.0   \n",
       "3      4         c           1                620.0   \n",
       "4      5         a           1              29910.0   \n",
       "\n",
       "   CompetitionOpenSinceMonth  CompetitionOpenSinceYear  Promo2  \\\n",
       "0                        9.0                    2008.0       0   \n",
       "1                       11.0                    2007.0       1   \n",
       "2                       12.0                    2006.0       1   \n",
       "3                        9.0                    2009.0       0   \n",
       "4                        4.0                    2015.0       0   \n",
       "\n",
       "   Promo2SinceWeek  Promo2SinceYear  PromoInterval_Feb,May,Aug,Nov  \\\n",
       "0              0.0              0.0                              0   \n",
       "1             13.0           2010.0                              0   \n",
       "2             14.0           2011.0                              0   \n",
       "3              0.0              0.0                              0   \n",
       "4              0.0              0.0                              0   \n",
       "\n",
       "   PromoInterval_Jan,Apr,Jul,Oct  PromoInterval_Mar,Jun,Sept,Dec  \n",
       "0                              0                               0  \n",
       "1                              1                               0  \n",
       "2                              1                               0  \n",
       "3                              0                               0  \n",
       "4                              0                               0  "
      ]
     },
     "execution_count": 325,
     "metadata": {},
     "output_type": "execute_result"
    }
   ],
   "source": [
    "df_store = pd.get_dummies(df_store, columns=['PromoInterval'], drop_first=True)\n",
    "df_store.head(5)"
   ]
  },
  {
   "cell_type": "code",
   "execution_count": 185,
   "id": "aac06f9e",
   "metadata": {},
   "outputs": [
    {
     "data": {
      "text/plain": [
       "a    602\n",
       "d    348\n",
       "c    148\n",
       "b     17\n",
       "Name: StoreType, dtype: int64"
      ]
     },
     "execution_count": 185,
     "metadata": {},
     "output_type": "execute_result"
    }
   ],
   "source": [
    "df_store['StoreType'].value_counts()"
   ]
  },
  {
   "cell_type": "code",
   "execution_count": 326,
   "id": "a99e7030",
   "metadata": {},
   "outputs": [],
   "source": [
    "df_store = pd.get_dummies(df_store, columns=['StoreType'], drop_first=True)"
   ]
  },
  {
   "cell_type": "markdown",
   "id": "27e83982",
   "metadata": {},
   "source": [
    "### Distribution of Competition Distance"
   ]
  },
  {
   "cell_type": "code",
   "execution_count": 187,
   "id": "1f22dcba",
   "metadata": {},
   "outputs": [
    {
     "name": "stderr",
     "output_type": "stream",
     "text": [
      "*c* argument looks like a single numeric RGB or RGBA sequence, which should be avoided as value-mapping will have precedence in case its length matches with *x* & *y*.  Please use the *color* keyword-argument or provide a 2D array with a single row if you intend to specify the same RGB or RGBA value for all points.\n"
     ]
    },
    {
     "data": {
      "text/plain": [
       "<AxesSubplot:xlabel='CompetitionDistance', ylabel='Sales'>"
      ]
     },
     "execution_count": 187,
     "metadata": {},
     "output_type": "execute_result"
    },
    {
     "data": {
      "image/png": "[encoded data removed]",
      "text/plain": [
       "<Figure size 1080x288 with 1 Axes>"
      ]
     },
     "metadata": {},
     "output_type": "display_data"
    }
   ],
   "source": [
    "df_merge.plot(kind='scatter',x='CompetitionDistance',y='Sales',figsize=(15,4))"
   ]
  },
  {
   "cell_type": "code",
   "execution_count": 327,
   "id": "197bea33",
   "metadata": {},
   "outputs": [],
   "source": [
    "df_store[\"CompetitionDistance\"] = df_store[\"CompetitionDistance\"].fillna(df_store[\"CompetitionDistance\"].median())\n",
    "df_store[\"CompetitionOpenSinceMonth\"] = df_store[\"CompetitionOpenSinceMonth\"].fillna(0)\n",
    "df_store[\"CompetitionOpenSinceYear\"] = df_store[\"CompetitionOpenSinceYear\"].fillna(0)"
   ]
  },
  {
   "cell_type": "markdown",
   "id": "91a3b6cc",
   "metadata": {},
   "source": [
    "### Merging Cleaned Datasets "
   ]
  },
  {
   "cell_type": "code",
   "execution_count": 328,
   "id": "c4c2657b",
   "metadata": {},
   "outputs": [],
   "source": [
    "sales1 = df_train.groupby('Store')[[\"Sales\", \"Customers\"]].mean()\n",
    "sales_customers_df = pd.DataFrame({'Store':sales1.index,\n",
    "                      'Sales':sales1[\"Sales\"], 'Customers': sales1[\"Customers\"],\n",
    "                                  }, \n",
    "                      columns=['Store', 'Sales', 'Customers'])\n",
    "sales_customers_df.index.name = None\n",
    "merged_df = pd.merge(sales_customers_df, df_store, on='Store')"
   ]
  },
  {
   "cell_type": "markdown",
   "id": "638bd5b4",
   "metadata": {},
   "source": [
    "### Standard Scaler - Scaling the data "
   ]
  },
  {
   "cell_type": "code",
   "execution_count": 330,
   "id": "f0811714",
   "metadata": {},
   "outputs": [],
   "source": [
    "from sklearn.preprocessing import StandardScaler\n",
    "scaler = StandardScaler()\n",
    "scaled_features = scaler.fit_transform(merged_df)\n"
   ]
  },
  {
   "cell_type": "code",
   "execution_count": 331,
   "id": "ba2520ef",
   "metadata": {},
   "outputs": [],
   "source": [
    "merged_df = pd.DataFrame(scaled_features, index=merged_df.index, columns=merged_df.columns)"
   ]
  },
  {
   "cell_type": "markdown",
   "id": "dd5dc8a7",
   "metadata": {},
   "source": [
    "### Spliting Data to create train and test datasets."
   ]
  },
  {
   "cell_type": "code",
   "execution_count": 334,
   "id": "7f924e4b",
   "metadata": {},
   "outputs": [],
   "source": [
    "from sklearn.model_selection import train_test_split\n",
    "y = merged_df.Sales\n",
    "merged_df = merged_df.drop(columns = 'Sales')\n",
    "merged_df = merged_df.drop(columns = 'Store')\n",
    "\n",
    "X = merged_df\n",
    "X_train, X_test, y_train, y_test = train_test_split(X, y, test_size=0.4,\n",
    "                                                    random_state=1)"
   ]
  },
  {
   "cell_type": "markdown",
   "id": "c7c43e14",
   "metadata": {},
   "source": [
    "### Fitting Baseline Linear Regression Model."
   ]
  },
  {
   "cell_type": "code",
   "execution_count": 335,
   "id": "cd4a861e",
   "metadata": {},
   "outputs": [
    {
     "name": "stdout",
     "output_type": "stream",
     "text": [
      "Adjusted R Squared: 79.12511074147466\n"
     ]
    }
   ],
   "source": [
    "from sklearn.linear_model import LinearRegression\n",
    " \n",
    "linear = LinearRegression()\n",
    "linear.fit(X_train, y_train)\n",
    "r2 = linear.score(X_test, y_test)\n",
    "print('Adjusted R Squared:',linear.score(X_test, y_test) * 100/1 - (1-r2)*(len(y_train)-1)/(len(y_train)-X_train.shape[1]-1))"
   ]
  },
  {
   "cell_type": "markdown",
   "id": "ef45380a",
   "metadata": {},
   "source": [
    "### Cross Validation Strategy for Regression."
   ]
  },
  {
   "cell_type": "markdown",
   "id": "cc2a158d",
   "metadata": {},
   "source": [
    "**Stratified KFold - This cross-validation is a variation of KFold that returns stratified folds. The folds are made by preserving the percentage of samples for each class. This helps us to prevent overfitting the data by making the model more generalized as it trains on different folds of data.**"
   ]
  },
  {
   "cell_type": "markdown",
   "id": "69d7f481",
   "metadata": {},
   "source": [
    "**Cross Validation is usually not done for Regression Models but in order to get the benefits of cross validation for regression I created a** ***ycat value by making cuts in the data***. **This helped stratified kfold to get categories in order to create folds.**"
   ]
  },
  {
   "cell_type": "code",
   "execution_count": 336,
   "id": "9abbe083",
   "metadata": {},
   "outputs": [
    {
     "name": "stdout",
     "output_type": "stream",
     "text": [
      "Adjusted R Squared Per fold : 0.7471234319240092\n",
      "Adjusted R Squared Per fold : 0.7452378202426015\n",
      "Adjusted R Squared Per fold : 0.7519262318807808\n",
      "Adjusted R Squared Per fold : 0.7392276725855472\n",
      "Adjusted R Squared Per fold : 0.7223084661590968\n"
     ]
    },
    {
     "name": "stderr",
     "output_type": "stream",
     "text": [
      "/Users/haripurnapatre/opt/anaconda3/lib/python3.9/site-packages/sklearn/model_selection/_split.py:676: UserWarning: The least populated class in y has only 1 members, which is less than n_splits=5.\n",
      "  warnings.warn(\n"
     ]
    }
   ],
   "source": [
    "from sklearn.model_selection import StratifiedKFold\n",
    "from sklearn.metrics import r2_score\n",
    "i = 1\n",
    "aucs = []\n",
    "y_cat = pd.cut(y_train, 10, labels=range(10))\n",
    "for train_index,test_index in StratifiedKFold(5).split(X_train, y_cat):\n",
    "    x1_train, x1_test, y1_train, y1_test = X_train.iloc[train_index], X_train.iloc[test_index], y_train.iloc[train_index], y_train.iloc[test_index]\n",
    "    linear.fit(x1_train, y1_train)\n",
    "    y1_pred = linear.predict(x1_train)\n",
    "    r2score = r2_score(y1_pred, y1_train)\n",
    "    adjusted_r_squared = 1 - (1-r2score)*(len(y1_train)-1)/(len(y1_train)-x1_train.shape[1]-1)\n",
    "    print(\"Adjusted R Squared Per fold :\", adjusted_r_squared)\n",
    "    aucs.append(adjusted_r_squared)"
   ]
  },
  {
   "cell_type": "markdown",
   "id": "971c7393",
   "metadata": {},
   "source": [
    "**We can see that that our Adjusted R-Squared Score (72.23), is less than our baseline Model Score (79.12), this is because the score we get from Stratified Kfold is more generalized and will work better with real world data as the model is less prone to overfitting.**"
   ]
  },
  {
   "cell_type": "code",
   "execution_count": 337,
   "id": "79ab8dee",
   "metadata": {},
   "outputs": [
    {
     "name": "stdout",
     "output_type": "stream",
     "text": [
      "Adjusted R Squared Score: 72.23084661590968\n"
     ]
    }
   ],
   "source": [
    "print(\"Adjusted R Squared Score:\" ,np.mean(adjusted_r_squared)*100)"
   ]
  },
  {
   "cell_type": "markdown",
   "id": "be3ce260",
   "metadata": {},
   "source": [
    "### Stationary Time Series\n",
    "**Stationarity is a property of a time series. A stationary series is one where the values of the series is not a function of time. So, the values are independent of time.**\n",
    "\n",
    "**Hence the statistical properties of the series like mean, variance and autocorrelation are constant over time.**\n",
    "\n",
    "**One of the assumptions of linear regression is that the residuals are not correlated and with Stationary time series the assuption is satisfied which allows us to use linear regression effectively in a time series problem.**\n",
    "\n",
    "\n"
   ]
  },
  {
   "cell_type": "markdown",
   "id": "e154f704",
   "metadata": {},
   "source": [
    "### Detecting Stationary Time Series (Augmented Dickey Fuller test)\n",
    "\n",
    "**Augmented Dickey-Fuller Test is a well known statistical test that can help determine if your time series is stationary.**\n",
    "\n",
    "**Null Hypothesis : There is the presence of a unit root. Stationarity does'nt exist.**\n",
    "\n",
    "**Alternate Hypothesis : There is no unit root. In other words, Stationarity exist.**"
   ]
  },
  {
   "cell_type": "code",
   "execution_count": 338,
   "id": "69e8d6c8",
   "metadata": {},
   "outputs": [
    {
     "name": "stdout",
     "output_type": "stream",
     "text": [
      "ADF Statistic: -32.867817\n",
      "p-value: 0.000000\n",
      "Critical Values:\n",
      "\t1%: -3.436\n",
      "\t5%: -2.864\n",
      "\t10%: -2.568\n"
     ]
    }
   ],
   "source": [
    "from statsmodels.tsa.stattools import adfuller\n",
    "\n",
    "result = adfuller(y)\n",
    "print('ADF Statistic: %f' % result[0])\n",
    "print('p-value: %f' % result[1])\n",
    "print('Critical Values:')\n",
    "for key, value in result[4].items():\n",
    "\tprint('\\t%s: %.3f' % (key, value))"
   ]
  },
  {
   "cell_type": "markdown",
   "id": "2757803a",
   "metadata": {},
   "source": [
    "**As THE P-Value is less than the Significance Level(0.05), we reject the Null Hypothesis that the time series contains a unit root. By rejecting the Null hypothesis, we can conclude that the time series is stationary.**"
   ]
  },
  {
   "cell_type": "markdown",
   "id": "4e55fc08",
   "metadata": {},
   "source": [
    "**To better interpret the linear regression model we can see its summary.**"
   ]
  },
  {
   "cell_type": "code",
   "execution_count": 339,
   "id": "2dfb2e31",
   "metadata": {},
   "outputs": [
    {
     "data": {
      "text/html": [
       "<table class=\"simpletable\">\n",
       "<caption>OLS Regression Results</caption>\n",
       "<tr>\n",
       "  <th>Dep. Variable:</th>          <td>Sales</td>      <th>  R-squared (uncentered):</th>      <td>   0.089</td> \n",
       "</tr>\n",
       "<tr>\n",
       "  <th>Model:</th>                   <td>OLS</td>       <th>  Adj. R-squared (uncentered):</th> <td>   0.072</td> \n",
       "</tr>\n",
       "<tr>\n",
       "  <th>Method:</th>             <td>Least Squares</td>  <th>  F-statistic:       </th>          <td>   5.353</td> \n",
       "</tr>\n",
       "<tr>\n",
       "  <th>Date:</th>             <td>Sun, 24 Apr 2022</td> <th>  Prob (F-statistic):</th>          <td>1.08e-08</td> \n",
       "</tr>\n",
       "<tr>\n",
       "  <th>Time:</th>                 <td>23:06:00</td>     <th>  Log-Likelihood:    </th>          <td> -6867.7</td> \n",
       "</tr>\n",
       "<tr>\n",
       "  <th>No. Observations:</th>      <td>   669</td>      <th>  AIC:               </th>          <td>1.376e+04</td>\n",
       "</tr>\n",
       "<tr>\n",
       "  <th>Df Residuals:</th>          <td>   657</td>      <th>  BIC:               </th>          <td>1.381e+04</td>\n",
       "</tr>\n",
       "<tr>\n",
       "  <th>Df Model:</th>              <td>    12</td>      <th>                     </th>              <td> </td>    \n",
       "</tr>\n",
       "<tr>\n",
       "  <th>Covariance Type:</th>      <td>nonrobust</td>    <th>                     </th>              <td> </td>    \n",
       "</tr>\n",
       "</table>\n",
       "<table class=\"simpletable\">\n",
       "<tr>\n",
       "                 <td></td>                   <th>coef</th>     <th>std err</th>      <th>t</th>      <th>P>|t|</th>  <th>[0.025</th>    <th>0.975]</th>  \n",
       "</tr>\n",
       "<tr>\n",
       "  <th>Customers</th>                      <td> 2384.1121</td> <td>  326.528</td> <td>    7.301</td> <td> 0.000</td> <td> 1742.948</td> <td> 3025.276</td>\n",
       "</tr>\n",
       "<tr>\n",
       "  <th>Assortment</th>                     <td>  1.09e-08</td> <td> 1.83e-08</td> <td>    0.594</td> <td> 0.553</td> <td>-2.51e-08</td> <td> 4.69e-08</td>\n",
       "</tr>\n",
       "<tr>\n",
       "  <th>CompetitionDistance</th>            <td> -241.0087</td> <td>  313.426</td> <td>   -0.769</td> <td> 0.442</td> <td> -856.447</td> <td>  374.429</td>\n",
       "</tr>\n",
       "<tr>\n",
       "  <th>CompetitionOpenSinceMonth</th>      <td> -308.7880</td> <td>  432.840</td> <td>   -0.713</td> <td> 0.476</td> <td>-1158.705</td> <td>  541.129</td>\n",
       "</tr>\n",
       "<tr>\n",
       "  <th>CompetitionOpenSinceYear</th>       <td>  598.0430</td> <td>  440.490</td> <td>    1.358</td> <td> 0.175</td> <td> -266.895</td> <td> 1462.981</td>\n",
       "</tr>\n",
       "<tr>\n",
       "  <th>Promo2</th>                         <td> 8.701e+04</td> <td> 1.46e+05</td> <td>    0.595</td> <td> 0.552</td> <td>   -2e+05</td> <td> 3.74e+05</td>\n",
       "</tr>\n",
       "<tr>\n",
       "  <th>Promo2SinceWeek</th>                <td>  -32.5683</td> <td>  430.986</td> <td>   -0.076</td> <td> 0.940</td> <td> -878.844</td> <td>  813.707</td>\n",
       "</tr>\n",
       "<tr>\n",
       "  <th>Promo2SinceYear</th>                <td>-1.412e+05</td> <td> 2.38e+05</td> <td>   -0.594</td> <td> 0.553</td> <td>-6.08e+05</td> <td> 3.26e+05</td>\n",
       "</tr>\n",
       "<tr>\n",
       "  <th>PromoInterval_Feb,May,Aug,Nov</th>  <td>  3.52e+04</td> <td> 5.88e+04</td> <td>    0.599</td> <td> 0.549</td> <td>-8.02e+04</td> <td> 1.51e+05</td>\n",
       "</tr>\n",
       "<tr>\n",
       "  <th>PromoInterval_Jan,Apr,Jul,Oct</th>  <td> 4.977e+04</td> <td>  8.4e+04</td> <td>    0.593</td> <td> 0.554</td> <td>-1.15e+05</td> <td> 2.15e+05</td>\n",
       "</tr>\n",
       "<tr>\n",
       "  <th>PromoInterval_Mar,Jun,Sept,Dec</th> <td> 3.198e+04</td> <td> 5.38e+04</td> <td>    0.595</td> <td> 0.552</td> <td>-7.36e+04</td> <td> 1.38e+05</td>\n",
       "</tr>\n",
       "<tr>\n",
       "  <th>StoreType_b</th>                    <td> -722.6120</td> <td>  313.003</td> <td>   -2.309</td> <td> 0.021</td> <td>-1337.219</td> <td> -108.005</td>\n",
       "</tr>\n",
       "<tr>\n",
       "  <th>StoreType_c</th>                    <td> -313.8116</td> <td>  290.541</td> <td>   -1.080</td> <td> 0.280</td> <td> -884.313</td> <td>  256.690</td>\n",
       "</tr>\n",
       "<tr>\n",
       "  <th>StoreType_d</th>                    <td>  322.1264</td> <td>  297.466</td> <td>    1.083</td> <td> 0.279</td> <td> -261.972</td> <td>  906.225</td>\n",
       "</tr>\n",
       "</table>\n",
       "<table class=\"simpletable\">\n",
       "<tr>\n",
       "  <th>Omnibus:</th>       <td> 5.761</td> <th>  Durbin-Watson:     </th> <td>   0.063</td>\n",
       "</tr>\n",
       "<tr>\n",
       "  <th>Prob(Omnibus):</th> <td> 0.056</td> <th>  Jarque-Bera (JB):  </th> <td>   6.835</td>\n",
       "</tr>\n",
       "<tr>\n",
       "  <th>Skew:</th>          <td> 0.105</td> <th>  Prob(JB):          </th> <td>  0.0328</td>\n",
       "</tr>\n",
       "<tr>\n",
       "  <th>Kurtosis:</th>      <td> 3.449</td> <th>  Cond. No.          </th> <td>4.01e+17</td>\n",
       "</tr>\n",
       "</table><br/><br/>Notes:<br/>[1] R² is computed without centering (uncentered) since the model does not contain a constant.<br/>[2] Standard Errors assume that the covariance matrix of the errors is correctly specified.<br/>[3] The smallest eigenvalue is 1.41e-32. This might indicate that there are<br/>strong multicollinearity problems or that the design matrix is singular."
      ],
      "text/plain": [
       "<class 'statsmodels.iolib.summary.Summary'>\n",
       "\"\"\"\n",
       "                                 OLS Regression Results                                \n",
       "=======================================================================================\n",
       "Dep. Variable:                  Sales   R-squared (uncentered):                   0.089\n",
       "Model:                            OLS   Adj. R-squared (uncentered):              0.072\n",
       "Method:                 Least Squares   F-statistic:                              5.353\n",
       "Date:                Sun, 24 Apr 2022   Prob (F-statistic):                    1.08e-08\n",
       "Time:                        23:06:00   Log-Likelihood:                         -6867.7\n",
       "No. Observations:                 669   AIC:                                  1.376e+04\n",
       "Df Residuals:                     657   BIC:                                  1.381e+04\n",
       "Df Model:                          12                                                  \n",
       "Covariance Type:            nonrobust                                                  \n",
       "==================================================================================================\n",
       "                                     coef    std err          t      P>|t|      [0.025      0.975]\n",
       "--------------------------------------------------------------------------------------------------\n",
       "Customers                       2384.1121    326.528      7.301      0.000    1742.948    3025.276\n",
       "Assortment                       1.09e-08   1.83e-08      0.594      0.553   -2.51e-08    4.69e-08\n",
       "CompetitionDistance             -241.0087    313.426     -0.769      0.442    -856.447     374.429\n",
       "CompetitionOpenSinceMonth       -308.7880    432.840     -0.713      0.476   -1158.705     541.129\n",
       "CompetitionOpenSinceYear         598.0430    440.490      1.358      0.175    -266.895    1462.981\n",
       "Promo2                          8.701e+04   1.46e+05      0.595      0.552      -2e+05    3.74e+05\n",
       "Promo2SinceWeek                  -32.5683    430.986     -0.076      0.940    -878.844     813.707\n",
       "Promo2SinceYear                -1.412e+05   2.38e+05     -0.594      0.553   -6.08e+05    3.26e+05\n",
       "PromoInterval_Feb,May,Aug,Nov    3.52e+04   5.88e+04      0.599      0.549   -8.02e+04    1.51e+05\n",
       "PromoInterval_Jan,Apr,Jul,Oct   4.977e+04    8.4e+04      0.593      0.554   -1.15e+05    2.15e+05\n",
       "PromoInterval_Mar,Jun,Sept,Dec  3.198e+04   5.38e+04      0.595      0.552   -7.36e+04    1.38e+05\n",
       "StoreType_b                     -722.6120    313.003     -2.309      0.021   -1337.219    -108.005\n",
       "StoreType_c                     -313.8116    290.541     -1.080      0.280    -884.313     256.690\n",
       "StoreType_d                      322.1264    297.466      1.083      0.279    -261.972     906.225\n",
       "==============================================================================\n",
       "Omnibus:                        5.761   Durbin-Watson:                   0.063\n",
       "Prob(Omnibus):                  0.056   Jarque-Bera (JB):                6.835\n",
       "Skew:                           0.105   Prob(JB):                       0.0328\n",
       "Kurtosis:                       3.449   Cond. No.                     4.01e+17\n",
       "==============================================================================\n",
       "\n",
       "Notes:\n",
       "[1] R² is computed without centering (uncentered) since the model does not contain a constant.\n",
       "[2] Standard Errors assume that the covariance matrix of the errors is correctly specified.\n",
       "[3] The smallest eigenvalue is 1.41e-32. This might indicate that there are\n",
       "strong multicollinearity problems or that the design matrix is singular.\n",
       "\"\"\""
      ]
     },
     "execution_count": 339,
     "metadata": {},
     "output_type": "execute_result"
    }
   ],
   "source": [
    "import statsmodels.api as sm\n",
    "results = sm.OLS(y_train,X_train).fit()\n",
    "results.summary() "
   ]
  },
  {
   "cell_type": "markdown",
   "id": "b514769f",
   "metadata": {},
   "source": [
    "## VIF\n",
    "### By looking at the model we can see that mulicollinearity might exist in the data so we will use Variation Inflation Factor (VIF) to handle this mulicollinearity."
   ]
  },
  {
   "cell_type": "code",
   "execution_count": 340,
   "id": "97198c9e",
   "metadata": {},
   "outputs": [],
   "source": [
    "from patsy import dmatrices\n",
    "from statsmodels.stats.outliers_influence import variance_inflation_factor"
   ]
  },
  {
   "cell_type": "code",
   "execution_count": 341,
   "id": "91b18242",
   "metadata": {},
   "outputs": [],
   "source": [
    "def compute_vif(considered_features):\n",
    "    \n",
    "    X1 = merged_df[considered_features]\n",
    "    # the calculation of variance inflation requires a constant\n",
    "    X1['intercept'] = 1\n",
    "    \n",
    "    # create dataframe to store vif values\n",
    "    vif = pd.DataFrame()\n",
    "    vif[\"Variable\"] = X1.columns\n",
    "    vif[\"VIF\"] = [variance_inflation_factor(X1.values, i) for i in range(X1.shape[1])]\n",
    "    vif = vif[vif['Variable']!='intercept']\n",
    "    return vif"
   ]
  },
  {
   "cell_type": "code",
   "execution_count": 342,
   "id": "550b35e8",
   "metadata": {},
   "outputs": [],
   "source": [
    "merged_df['Sales']= y"
   ]
  },
  {
   "cell_type": "code",
   "execution_count": 343,
   "id": "2c5aeb82",
   "metadata": {},
   "outputs": [
    {
     "name": "stderr",
     "output_type": "stream",
     "text": [
      "/Users/haripurnapatre/opt/anaconda3/lib/python3.9/site-packages/statsmodels/regression/linear_model.py:1715: RuntimeWarning: invalid value encountered in double_scalars\n",
      "  return 1 - self.ssr/self.centered_tss\n",
      "/Users/haripurnapatre/opt/anaconda3/lib/python3.9/site-packages/statsmodels/stats/outliers_influence.py:193: RuntimeWarning: divide by zero encountered in double_scalars\n",
      "  vif = 1. / (1. - r_squared_i)\n"
     ]
    },
    {
     "data": {
      "text/html": [
       "<div>\n",
       "<style scoped>\n",
       "    .dataframe tbody tr th:only-of-type {\n",
       "        vertical-align: middle;\n",
       "    }\n",
       "\n",
       "    .dataframe tbody tr th {\n",
       "        vertical-align: top;\n",
       "    }\n",
       "\n",
       "    .dataframe thead th {\n",
       "        text-align: right;\n",
       "    }\n",
       "</style>\n",
       "<table border=\"1\" class=\"dataframe\">\n",
       "  <thead>\n",
       "    <tr style=\"text-align: right;\">\n",
       "      <th></th>\n",
       "      <th>Variable</th>\n",
       "      <th>VIF</th>\n",
       "    </tr>\n",
       "  </thead>\n",
       "  <tbody>\n",
       "    <tr>\n",
       "      <th>0</th>\n",
       "      <td>Customers</td>\n",
       "      <td>6.727921e+00</td>\n",
       "    </tr>\n",
       "    <tr>\n",
       "      <th>1</th>\n",
       "      <td>Assortment</td>\n",
       "      <td>NaN</td>\n",
       "    </tr>\n",
       "    <tr>\n",
       "      <th>2</th>\n",
       "      <td>CompetitionDistance</td>\n",
       "      <td>1.121460e+00</td>\n",
       "    </tr>\n",
       "    <tr>\n",
       "      <th>3</th>\n",
       "      <td>CompetitionOpenSinceMonth</td>\n",
       "      <td>2.648987e+00</td>\n",
       "    </tr>\n",
       "    <tr>\n",
       "      <th>4</th>\n",
       "      <td>CompetitionOpenSinceYear</td>\n",
       "      <td>2.678212e+00</td>\n",
       "    </tr>\n",
       "    <tr>\n",
       "      <th>5</th>\n",
       "      <td>Promo2</td>\n",
       "      <td>inf</td>\n",
       "    </tr>\n",
       "    <tr>\n",
       "      <th>6</th>\n",
       "      <td>Promo2SinceWeek</td>\n",
       "      <td>2.520562e+00</td>\n",
       "    </tr>\n",
       "    <tr>\n",
       "      <th>7</th>\n",
       "      <td>Promo2SinceYear</td>\n",
       "      <td>7.678339e+05</td>\n",
       "    </tr>\n",
       "    <tr>\n",
       "      <th>8</th>\n",
       "      <td>PromoInterval_Feb,May,Aug,Nov</td>\n",
       "      <td>inf</td>\n",
       "    </tr>\n",
       "    <tr>\n",
       "      <th>9</th>\n",
       "      <td>PromoInterval_Jan,Apr,Jul,Oct</td>\n",
       "      <td>inf</td>\n",
       "    </tr>\n",
       "    <tr>\n",
       "      <th>10</th>\n",
       "      <td>PromoInterval_Mar,Jun,Sept,Dec</td>\n",
       "      <td>inf</td>\n",
       "    </tr>\n",
       "    <tr>\n",
       "      <th>11</th>\n",
       "      <td>StoreType_b</td>\n",
       "      <td>1.585040e+00</td>\n",
       "    </tr>\n",
       "    <tr>\n",
       "      <th>12</th>\n",
       "      <td>StoreType_c</td>\n",
       "      <td>1.100184e+00</td>\n",
       "    </tr>\n",
       "    <tr>\n",
       "      <th>13</th>\n",
       "      <td>StoreType_d</td>\n",
       "      <td>1.434715e+00</td>\n",
       "    </tr>\n",
       "    <tr>\n",
       "      <th>14</th>\n",
       "      <td>Sales</td>\n",
       "      <td>4.977008e+00</td>\n",
       "    </tr>\n",
       "  </tbody>\n",
       "</table>\n",
       "</div>"
      ],
      "text/plain": [
       "                          Variable           VIF\n",
       "0                        Customers  6.727921e+00\n",
       "1                       Assortment           NaN\n",
       "2              CompetitionDistance  1.121460e+00\n",
       "3        CompetitionOpenSinceMonth  2.648987e+00\n",
       "4         CompetitionOpenSinceYear  2.678212e+00\n",
       "5                           Promo2           inf\n",
       "6                  Promo2SinceWeek  2.520562e+00\n",
       "7                  Promo2SinceYear  7.678339e+05\n",
       "8    PromoInterval_Feb,May,Aug,Nov           inf\n",
       "9    PromoInterval_Jan,Apr,Jul,Oct           inf\n",
       "10  PromoInterval_Mar,Jun,Sept,Dec           inf\n",
       "11                     StoreType_b  1.585040e+00\n",
       "12                     StoreType_c  1.100184e+00\n",
       "13                     StoreType_d  1.434715e+00\n",
       "14                           Sales  4.977008e+00"
      ]
     },
     "execution_count": 343,
     "metadata": {},
     "output_type": "execute_result"
    }
   ],
   "source": [
    "compute_vif(merged_df.columns)"
   ]
  },
  {
   "cell_type": "code",
   "execution_count": 344,
   "id": "0bb668ef",
   "metadata": {},
   "outputs": [
    {
     "name": "stderr",
     "output_type": "stream",
     "text": [
      "/Users/haripurnapatre/opt/anaconda3/lib/python3.9/site-packages/pandas/io/formats/style.py:2813: RuntimeWarning: All-NaN slice encountered\n",
      "  smin = np.nanmin(gmap) if vmin is None else vmin\n",
      "/Users/haripurnapatre/opt/anaconda3/lib/python3.9/site-packages/pandas/io/formats/style.py:2814: RuntimeWarning: All-NaN slice encountered\n",
      "  smax = np.nanmax(gmap) if vmax is None else vmax\n"
     ]
    },
    {
     "data": {
      "text/html": [
       "<style type=\"text/css\">\n",
       "#T_e7f33_row0_col0, #T_e7f33_row2_col2, #T_e7f33_row3_col3, #T_e7f33_row4_col4, #T_e7f33_row5_col5, #T_e7f33_row5_col7, #T_e7f33_row6_col6, #T_e7f33_row7_col5, #T_e7f33_row7_col7, #T_e7f33_row8_col8, #T_e7f33_row9_col9, #T_e7f33_row10_col10, #T_e7f33_row11_col11, #T_e7f33_row12_col12, #T_e7f33_row13_col13, #T_e7f33_row14_col14 {\n",
       "  background-color: #b40426;\n",
       "  color: #f1f1f1;\n",
       "}\n",
       "#T_e7f33_row0_col1, #T_e7f33_row1_col0, #T_e7f33_row1_col1, #T_e7f33_row1_col2, #T_e7f33_row1_col3, #T_e7f33_row1_col4, #T_e7f33_row1_col5, #T_e7f33_row1_col6, #T_e7f33_row1_col7, #T_e7f33_row1_col8, #T_e7f33_row1_col9, #T_e7f33_row1_col10, #T_e7f33_row1_col11, #T_e7f33_row1_col12, #T_e7f33_row1_col13, #T_e7f33_row1_col14, #T_e7f33_row2_col1, #T_e7f33_row3_col1, #T_e7f33_row4_col1, #T_e7f33_row5_col1, #T_e7f33_row6_col1, #T_e7f33_row7_col1, #T_e7f33_row8_col1, #T_e7f33_row9_col1, #T_e7f33_row10_col1, #T_e7f33_row11_col1, #T_e7f33_row12_col1, #T_e7f33_row13_col1, #T_e7f33_row14_col1 {\n",
       "  background-color: #000000;\n",
       "  color: #f1f1f1;\n",
       "}\n",
       "#T_e7f33_row0_col2, #T_e7f33_row0_col5, #T_e7f33_row0_col6, #T_e7f33_row0_col7, #T_e7f33_row0_col13, #T_e7f33_row5_col14, #T_e7f33_row6_col3, #T_e7f33_row6_col4, #T_e7f33_row7_col14, #T_e7f33_row8_col9, #T_e7f33_row9_col8, #T_e7f33_row9_col10, #T_e7f33_row13_col0, #T_e7f33_row13_col11, #T_e7f33_row13_col12 {\n",
       "  background-color: #3b4cc0;\n",
       "  color: #f1f1f1;\n",
       "}\n",
       "#T_e7f33_row0_col3, #T_e7f33_row6_col14, #T_e7f33_row8_col3, #T_e7f33_row8_col10, #T_e7f33_row8_col14, #T_e7f33_row11_col2, #T_e7f33_row14_col3 {\n",
       "  background-color: #516ddb;\n",
       "  color: #f1f1f1;\n",
       "}\n",
       "#T_e7f33_row0_col4, #T_e7f33_row3_col2, #T_e7f33_row12_col3 {\n",
       "  background-color: #5d7ce6;\n",
       "  color: #f1f1f1;\n",
       "}\n",
       "#T_e7f33_row0_col8, #T_e7f33_row4_col10, #T_e7f33_row13_col14, #T_e7f33_row14_col4 {\n",
       "  background-color: #5e7de7;\n",
       "  color: #f1f1f1;\n",
       "}\n",
       "#T_e7f33_row0_col9, #T_e7f33_row8_col2, #T_e7f33_row10_col8 {\n",
       "  background-color: #5875e1;\n",
       "  color: #f1f1f1;\n",
       "}\n",
       "#T_e7f33_row0_col10, #T_e7f33_row2_col0 {\n",
       "  background-color: #5977e3;\n",
       "  color: #f1f1f1;\n",
       "}\n",
       "#T_e7f33_row0_col11 {\n",
       "  background-color: #d8dce2;\n",
       "  color: #000000;\n",
       "}\n",
       "#T_e7f33_row0_col12, #T_e7f33_row10_col12, #T_e7f33_row13_col5, #T_e7f33_row13_col7 {\n",
       "  background-color: #90b2fe;\n",
       "  color: #000000;\n",
       "}\n",
       "#T_e7f33_row0_col14 {\n",
       "  background-color: #e36b54;\n",
       "  color: #f1f1f1;\n",
       "}\n",
       "#T_e7f33_row2_col3, #T_e7f33_row2_col5, #T_e7f33_row2_col7, #T_e7f33_row10_col3 {\n",
       "  background-color: #4f69d9;\n",
       "  color: #f1f1f1;\n",
       "}\n",
       "#T_e7f33_row2_col4, #T_e7f33_row2_col14, #T_e7f33_row4_col5, #T_e7f33_row4_col7, #T_e7f33_row6_col0 {\n",
       "  background-color: #5b7ae5;\n",
       "  color: #f1f1f1;\n",
       "}\n",
       "#T_e7f33_row2_col6, #T_e7f33_row12_col13 {\n",
       "  background-color: #3f53c6;\n",
       "  color: #f1f1f1;\n",
       "}\n",
       "#T_e7f33_row2_col8, #T_e7f33_row3_col9, #T_e7f33_row3_col10, #T_e7f33_row4_col14, #T_e7f33_row10_col0 {\n",
       "  background-color: #6a8bef;\n",
       "  color: #f1f1f1;\n",
       "}\n",
       "#T_e7f33_row2_col9, #T_e7f33_row3_col14 {\n",
       "  background-color: #6180e9;\n",
       "  color: #f1f1f1;\n",
       "}\n",
       "#T_e7f33_row2_col10, #T_e7f33_row2_col12, #T_e7f33_row4_col8 {\n",
       "  background-color: #6384eb;\n",
       "  color: #f1f1f1;\n",
       "}\n",
       "#T_e7f33_row2_col11, #T_e7f33_row5_col2, #T_e7f33_row7_col2 {\n",
       "  background-color: #3e51c5;\n",
       "  color: #f1f1f1;\n",
       "}\n",
       "#T_e7f33_row2_col13 {\n",
       "  background-color: #a7c5fe;\n",
       "  color: #000000;\n",
       "}\n",
       "#T_e7f33_row3_col0, #T_e7f33_row5_col12, #T_e7f33_row7_col12, #T_e7f33_row14_col12 {\n",
       "  background-color: #7da0f9;\n",
       "  color: #f1f1f1;\n",
       "}\n",
       "#T_e7f33_row3_col4, #T_e7f33_row4_col3 {\n",
       "  background-color: #ec8165;\n",
       "  color: #f1f1f1;\n",
       "}\n",
       "#T_e7f33_row3_col5, #T_e7f33_row3_col7 {\n",
       "  background-color: #5f7fe8;\n",
       "  color: #f1f1f1;\n",
       "}\n",
       "#T_e7f33_row3_col6 {\n",
       "  background-color: #455cce;\n",
       "  color: #f1f1f1;\n",
       "}\n",
       "#T_e7f33_row3_col8, #T_e7f33_row11_col8 {\n",
       "  background-color: #7295f4;\n",
       "  color: #f1f1f1;\n",
       "}\n",
       "#T_e7f33_row3_col11, #T_e7f33_row4_col11, #T_e7f33_row8_col4, #T_e7f33_row10_col4, #T_e7f33_row13_col4 {\n",
       "  background-color: #465ecf;\n",
       "  color: #f1f1f1;\n",
       "}\n",
       "#T_e7f33_row3_col12 {\n",
       "  background-color: #82a6fb;\n",
       "  color: #f1f1f1;\n",
       "}\n",
       "#T_e7f33_row3_col13, #T_e7f33_row4_col9 {\n",
       "  background-color: #779af7;\n",
       "  color: #f1f1f1;\n",
       "}\n",
       "#T_e7f33_row4_col0, #T_e7f33_row12_col10, #T_e7f33_row14_col11 {\n",
       "  background-color: #85a8fc;\n",
       "  color: #f1f1f1;\n",
       "}\n",
       "#T_e7f33_row4_col2, #T_e7f33_row12_col4, #T_e7f33_row12_col14 {\n",
       "  background-color: #6687ed;\n",
       "  color: #f1f1f1;\n",
       "}\n",
       "#T_e7f33_row4_col6, #T_e7f33_row5_col11, #T_e7f33_row6_col2, #T_e7f33_row7_col3, #T_e7f33_row7_col11 {\n",
       "  background-color: #4257c9;\n",
       "  color: #f1f1f1;\n",
       "}\n",
       "#T_e7f33_row4_col12, #T_e7f33_row13_col9 {\n",
       "  background-color: #88abfd;\n",
       "  color: #000000;\n",
       "}\n",
       "#T_e7f33_row4_col13, #T_e7f33_row11_col10, #T_e7f33_row12_col9 {\n",
       "  background-color: #6e90f2;\n",
       "  color: #f1f1f1;\n",
       "}\n",
       "#T_e7f33_row5_col0, #T_e7f33_row7_col0, #T_e7f33_row9_col11 {\n",
       "  background-color: #485fd1;\n",
       "  color: #f1f1f1;\n",
       "}\n",
       "#T_e7f33_row5_col3, #T_e7f33_row5_col4, #T_e7f33_row7_col4, #T_e7f33_row10_col9 {\n",
       "  background-color: #4055c8;\n",
       "  color: #f1f1f1;\n",
       "}\n",
       "#T_e7f33_row5_col6, #T_e7f33_row7_col6 {\n",
       "  background-color: #ef886b;\n",
       "  color: #f1f1f1;\n",
       "}\n",
       "#T_e7f33_row5_col8, #T_e7f33_row7_col8 {\n",
       "  background-color: #d7dce3;\n",
       "  color: #000000;\n",
       "}\n",
       "#T_e7f33_row5_col9, #T_e7f33_row7_col9 {\n",
       "  background-color: #f7a98b;\n",
       "  color: #000000;\n",
       "}\n",
       "#T_e7f33_row5_col10, #T_e7f33_row7_col10 {\n",
       "  background-color: #cbd8ee;\n",
       "  color: #000000;\n",
       "}\n",
       "#T_e7f33_row5_col13, #T_e7f33_row7_col13 {\n",
       "  background-color: #9dbdff;\n",
       "  color: #000000;\n",
       "}\n",
       "#T_e7f33_row6_col5, #T_e7f33_row6_col7 {\n",
       "  background-color: #ed8366;\n",
       "  color: #f1f1f1;\n",
       "}\n",
       "#T_e7f33_row6_col8 {\n",
       "  background-color: #c9d7f0;\n",
       "  color: #000000;\n",
       "}\n",
       "#T_e7f33_row6_col9 {\n",
       "  background-color: #efcfbf;\n",
       "  color: #000000;\n",
       "}\n",
       "#T_e7f33_row6_col10 {\n",
       "  background-color: #b2ccfb;\n",
       "  color: #000000;\n",
       "}\n",
       "#T_e7f33_row6_col11, #T_e7f33_row12_col11 {\n",
       "  background-color: #445acc;\n",
       "  color: #f1f1f1;\n",
       "}\n",
       "#T_e7f33_row6_col12, #T_e7f33_row12_col8 {\n",
       "  background-color: #7699f6;\n",
       "  color: #f1f1f1;\n",
       "}\n",
       "#T_e7f33_row6_col13 {\n",
       "  background-color: #97b8ff;\n",
       "  color: #000000;\n",
       "}\n",
       "#T_e7f33_row8_col0 {\n",
       "  background-color: #688aef;\n",
       "  color: #f1f1f1;\n",
       "}\n",
       "#T_e7f33_row8_col5, #T_e7f33_row8_col7 {\n",
       "  background-color: #d6dce4;\n",
       "  color: #000000;\n",
       "}\n",
       "#T_e7f33_row8_col6 {\n",
       "  background-color: #bad0f8;\n",
       "  color: #000000;\n",
       "}\n",
       "#T_e7f33_row8_col11, #T_e7f33_row10_col14, #T_e7f33_row12_col2, #T_e7f33_row13_col3 {\n",
       "  background-color: #4b64d5;\n",
       "  color: #f1f1f1;\n",
       "}\n",
       "#T_e7f33_row8_col12, #T_e7f33_row13_col10 {\n",
       "  background-color: #7b9ff9;\n",
       "  color: #f1f1f1;\n",
       "}\n",
       "#T_e7f33_row8_col13, #T_e7f33_row13_col2 {\n",
       "  background-color: #8db0fe;\n",
       "  color: #000000;\n",
       "}\n",
       "#T_e7f33_row9_col0, #T_e7f33_row14_col8 {\n",
       "  background-color: #6282ea;\n",
       "  color: #f1f1f1;\n",
       "}\n",
       "#T_e7f33_row9_col2, #T_e7f33_row10_col11, #T_e7f33_row14_col6 {\n",
       "  background-color: #4e68d8;\n",
       "  color: #f1f1f1;\n",
       "}\n",
       "#T_e7f33_row9_col3, #T_e7f33_row14_col5, #T_e7f33_row14_col7 {\n",
       "  background-color: #4961d2;\n",
       "  color: #f1f1f1;\n",
       "}\n",
       "#T_e7f33_row9_col4, #T_e7f33_row12_col6, #T_e7f33_row14_col2 {\n",
       "  background-color: #5a78e4;\n",
       "  color: #f1f1f1;\n",
       "}\n",
       "#T_e7f33_row9_col5, #T_e7f33_row9_col7 {\n",
       "  background-color: #f7aa8c;\n",
       "  color: #000000;\n",
       "}\n",
       "#T_e7f33_row9_col6 {\n",
       "  background-color: #e9d5cb;\n",
       "  color: #000000;\n",
       "}\n",
       "#T_e7f33_row9_col12 {\n",
       "  background-color: #7396f5;\n",
       "  color: #f1f1f1;\n",
       "}\n",
       "#T_e7f33_row9_col13 {\n",
       "  background-color: #92b4fe;\n",
       "  color: #000000;\n",
       "}\n",
       "#T_e7f33_row9_col14 {\n",
       "  background-color: #5572df;\n",
       "  color: #f1f1f1;\n",
       "}\n",
       "#T_e7f33_row10_col2, #T_e7f33_row11_col6, #T_e7f33_row14_col10 {\n",
       "  background-color: #5673e0;\n",
       "  color: #f1f1f1;\n",
       "}\n",
       "#T_e7f33_row10_col5, #T_e7f33_row10_col7 {\n",
       "  background-color: #cdd9ec;\n",
       "  color: #000000;\n",
       "}\n",
       "#T_e7f33_row10_col6 {\n",
       "  background-color: #a6c4fe;\n",
       "  color: #000000;\n",
       "}\n",
       "#T_e7f33_row10_col13 {\n",
       "  background-color: #8caffe;\n",
       "  color: #000000;\n",
       "}\n",
       "#T_e7f33_row11_col0 {\n",
       "  background-color: #ecd3c5;\n",
       "  color: #000000;\n",
       "}\n",
       "#T_e7f33_row11_col3 {\n",
       "  background-color: #4c66d6;\n",
       "  color: #f1f1f1;\n",
       "}\n",
       "#T_e7f33_row11_col4 {\n",
       "  background-color: #506bda;\n",
       "  color: #f1f1f1;\n",
       "}\n",
       "#T_e7f33_row11_col5, #T_e7f33_row11_col7, #T_e7f33_row14_col9 {\n",
       "  background-color: #6788ee;\n",
       "  color: #f1f1f1;\n",
       "}\n",
       "#T_e7f33_row11_col9 {\n",
       "  background-color: #6f92f3;\n",
       "  color: #f1f1f1;\n",
       "}\n",
       "#T_e7f33_row11_col12 {\n",
       "  background-color: #7093f3;\n",
       "  color: #f1f1f1;\n",
       "}\n",
       "#T_e7f33_row11_col13 {\n",
       "  background-color: #6c8ff1;\n",
       "  color: #f1f1f1;\n",
       "}\n",
       "#T_e7f33_row11_col14 {\n",
       "  background-color: #98b9ff;\n",
       "  color: #000000;\n",
       "}\n",
       "#T_e7f33_row12_col0 {\n",
       "  background-color: #94b6ff;\n",
       "  color: #000000;\n",
       "}\n",
       "#T_e7f33_row12_col5, #T_e7f33_row12_col7 {\n",
       "  background-color: #7597f6;\n",
       "  color: #f1f1f1;\n",
       "}\n",
       "#T_e7f33_row13_col6 {\n",
       "  background-color: #799cf8;\n",
       "  color: #f1f1f1;\n",
       "}\n",
       "#T_e7f33_row13_col8 {\n",
       "  background-color: #84a7fc;\n",
       "  color: #f1f1f1;\n",
       "}\n",
       "#T_e7f33_row14_col0 {\n",
       "  background-color: #df634e;\n",
       "  color: #f1f1f1;\n",
       "}\n",
       "#T_e7f33_row14_col13 {\n",
       "  background-color: #7a9df8;\n",
       "  color: #f1f1f1;\n",
       "}\n",
       "</style>\n",
       "<table id=\"T_e7f33_\">\n",
       "  <thead>\n",
       "    <tr>\n",
       "      <th class=\"blank level0\" >&nbsp;</th>\n",
       "      <th class=\"col_heading level0 col0\" >Customers</th>\n",
       "      <th class=\"col_heading level0 col1\" >Assortment</th>\n",
       "      <th class=\"col_heading level0 col2\" >CompetitionDistance</th>\n",
       "      <th class=\"col_heading level0 col3\" >CompetitionOpenSinceMonth</th>\n",
       "      <th class=\"col_heading level0 col4\" >CompetitionOpenSinceYear</th>\n",
       "      <th class=\"col_heading level0 col5\" >Promo2</th>\n",
       "      <th class=\"col_heading level0 col6\" >Promo2SinceWeek</th>\n",
       "      <th class=\"col_heading level0 col7\" >Promo2SinceYear</th>\n",
       "      <th class=\"col_heading level0 col8\" >PromoInterval_Feb,May,Aug,Nov</th>\n",
       "      <th class=\"col_heading level0 col9\" >PromoInterval_Jan,Apr,Jul,Oct</th>\n",
       "      <th class=\"col_heading level0 col10\" >PromoInterval_Mar,Jun,Sept,Dec</th>\n",
       "      <th class=\"col_heading level0 col11\" >StoreType_b</th>\n",
       "      <th class=\"col_heading level0 col12\" >StoreType_c</th>\n",
       "      <th class=\"col_heading level0 col13\" >StoreType_d</th>\n",
       "      <th class=\"col_heading level0 col14\" >Sales</th>\n",
       "    </tr>\n",
       "  </thead>\n",
       "  <tbody>\n",
       "    <tr>\n",
       "      <th id=\"T_e7f33_level0_row0\" class=\"row_heading level0 row0\" >Customers</th>\n",
       "      <td id=\"T_e7f33_row0_col0\" class=\"data row0 col0\" >1.000000</td>\n",
       "      <td id=\"T_e7f33_row0_col1\" class=\"data row0 col1\" >nan</td>\n",
       "      <td id=\"T_e7f33_row0_col2\" class=\"data row0 col2\" >-0.160958</td>\n",
       "      <td id=\"T_e7f33_row0_col3\" class=\"data row0 col3\" >-0.020732</td>\n",
       "      <td id=\"T_e7f33_row0_col4\" class=\"data row0 col4\" >0.005387</td>\n",
       "      <td id=\"T_e7f33_row0_col5\" class=\"data row0 col5\" >-0.227442</td>\n",
       "      <td id=\"T_e7f33_row0_col6\" class=\"data row0 col6\" >-0.149209</td>\n",
       "      <td id=\"T_e7f33_row0_col7\" class=\"data row0 col7\" >-0.227411</td>\n",
       "      <td id=\"T_e7f33_row0_col8\" class=\"data row0 col8\" >-0.095782</td>\n",
       "      <td id=\"T_e7f33_row0_col9\" class=\"data row0 col9\" >-0.121390</td>\n",
       "      <td id=\"T_e7f33_row0_col10\" class=\"data row0 col10\" >-0.093064</td>\n",
       "      <td id=\"T_e7f33_row0_col11\" class=\"data row0 col11\" >0.438327</td>\n",
       "      <td id=\"T_e7f33_row0_col12\" class=\"data row0 col12\" >0.063682</td>\n",
       "      <td id=\"T_e7f33_row0_col13\" class=\"data row0 col13\" >-0.286655</td>\n",
       "      <td id=\"T_e7f33_row0_col14\" class=\"data row0 col14\" >0.829794</td>\n",
       "    </tr>\n",
       "    <tr>\n",
       "      <th id=\"T_e7f33_level0_row1\" class=\"row_heading level0 row1\" >Assortment</th>\n",
       "      <td id=\"T_e7f33_row1_col0\" class=\"data row1 col0\" >nan</td>\n",
       "      <td id=\"T_e7f33_row1_col1\" class=\"data row1 col1\" >nan</td>\n",
       "      <td id=\"T_e7f33_row1_col2\" class=\"data row1 col2\" >nan</td>\n",
       "      <td id=\"T_e7f33_row1_col3\" class=\"data row1 col3\" >nan</td>\n",
       "      <td id=\"T_e7f33_row1_col4\" class=\"data row1 col4\" >nan</td>\n",
       "      <td id=\"T_e7f33_row1_col5\" class=\"data row1 col5\" >nan</td>\n",
       "      <td id=\"T_e7f33_row1_col6\" class=\"data row1 col6\" >nan</td>\n",
       "      <td id=\"T_e7f33_row1_col7\" class=\"data row1 col7\" >nan</td>\n",
       "      <td id=\"T_e7f33_row1_col8\" class=\"data row1 col8\" >nan</td>\n",
       "      <td id=\"T_e7f33_row1_col9\" class=\"data row1 col9\" >nan</td>\n",
       "      <td id=\"T_e7f33_row1_col10\" class=\"data row1 col10\" >nan</td>\n",
       "      <td id=\"T_e7f33_row1_col11\" class=\"data row1 col11\" >nan</td>\n",
       "      <td id=\"T_e7f33_row1_col12\" class=\"data row1 col12\" >nan</td>\n",
       "      <td id=\"T_e7f33_row1_col13\" class=\"data row1 col13\" >nan</td>\n",
       "      <td id=\"T_e7f33_row1_col14\" class=\"data row1 col14\" >nan</td>\n",
       "    </tr>\n",
       "    <tr>\n",
       "      <th id=\"T_e7f33_level0_row2\" class=\"row_heading level0 row2\" >CompetitionDistance</th>\n",
       "      <td id=\"T_e7f33_row2_col0\" class=\"data row2 col0\" >-0.160958</td>\n",
       "      <td id=\"T_e7f33_row2_col1\" class=\"data row2 col1\" >nan</td>\n",
       "      <td id=\"T_e7f33_row2_col2\" class=\"data row2 col2\" >1.000000</td>\n",
       "      <td id=\"T_e7f33_row2_col3\" class=\"data row2 col3\" >-0.031303</td>\n",
       "      <td id=\"T_e7f33_row2_col4\" class=\"data row2 col4\" >-0.000591</td>\n",
       "      <td id=\"T_e7f33_row2_col5\" class=\"data row2 col5\" >-0.145098</td>\n",
       "      <td id=\"T_e7f33_row2_col6\" class=\"data row2 col6\" >-0.129552</td>\n",
       "      <td id=\"T_e7f33_row2_col7\" class=\"data row2 col7\" >-0.145164</td>\n",
       "      <td id=\"T_e7f33_row2_col8\" class=\"data row2 col8\" >-0.051841</td>\n",
       "      <td id=\"T_e7f33_row2_col9\" class=\"data row2 col9\" >-0.087643</td>\n",
       "      <td id=\"T_e7f33_row2_col10\" class=\"data row2 col10\" >-0.053561</td>\n",
       "      <td id=\"T_e7f33_row2_col11\" class=\"data row2 col11\" >-0.070517</td>\n",
       "      <td id=\"T_e7f33_row2_col12\" class=\"data row2 col12\" >-0.095824</td>\n",
       "      <td id=\"T_e7f33_row2_col13\" class=\"data row2 col13\" >0.131183</td>\n",
       "      <td id=\"T_e7f33_row2_col14\" class=\"data row2 col14\" >-0.041649</td>\n",
       "    </tr>\n",
       "    <tr>\n",
       "      <th id=\"T_e7f33_level0_row3\" class=\"row_heading level0 row3\" >CompetitionOpenSinceMonth</th>\n",
       "      <td id=\"T_e7f33_row3_col0\" class=\"data row3 col0\" >-0.020732</td>\n",
       "      <td id=\"T_e7f33_row3_col1\" class=\"data row3 col1\" >nan</td>\n",
       "      <td id=\"T_e7f33_row3_col2\" class=\"data row3 col2\" >-0.031303</td>\n",
       "      <td id=\"T_e7f33_row3_col3\" class=\"data row3 col3\" >1.000000</td>\n",
       "      <td id=\"T_e7f33_row3_col4\" class=\"data row3 col4\" >0.785030</td>\n",
       "      <td id=\"T_e7f33_row3_col5\" class=\"data row3 col5\" >-0.080671</td>\n",
       "      <td id=\"T_e7f33_row3_col6\" class=\"data row3 col6\" >-0.106586</td>\n",
       "      <td id=\"T_e7f33_row3_col7\" class=\"data row3 col7\" >-0.080591</td>\n",
       "      <td id=\"T_e7f33_row3_col8\" class=\"data row3 col8\" >-0.024156</td>\n",
       "      <td id=\"T_e7f33_row3_col9\" class=\"data row3 col9\" >-0.051095</td>\n",
       "      <td id=\"T_e7f33_row3_col10\" class=\"data row3 col10\" >-0.031184</td>\n",
       "      <td id=\"T_e7f33_row3_col11\" class=\"data row3 col11\" >-0.040717</td>\n",
       "      <td id=\"T_e7f33_row3_col12\" class=\"data row3 col12\" >0.016800</td>\n",
       "      <td id=\"T_e7f33_row3_col13\" class=\"data row3 col13\" >-0.042466</td>\n",
       "      <td id=\"T_e7f33_row3_col14\" class=\"data row3 col14\" >-0.021816</td>\n",
       "    </tr>\n",
       "    <tr>\n",
       "      <th id=\"T_e7f33_level0_row4\" class=\"row_heading level0 row4\" >CompetitionOpenSinceYear</th>\n",
       "      <td id=\"T_e7f33_row4_col0\" class=\"data row4 col0\" >0.005387</td>\n",
       "      <td id=\"T_e7f33_row4_col1\" class=\"data row4 col1\" >nan</td>\n",
       "      <td id=\"T_e7f33_row4_col2\" class=\"data row4 col2\" >-0.000591</td>\n",
       "      <td id=\"T_e7f33_row4_col3\" class=\"data row4 col3\" >0.785030</td>\n",
       "      <td id=\"T_e7f33_row4_col4\" class=\"data row4 col4\" >1.000000</td>\n",
       "      <td id=\"T_e7f33_row4_col5\" class=\"data row4 col5\" >-0.095603</td>\n",
       "      <td id=\"T_e7f33_row4_col6\" class=\"data row4 col6\" >-0.120918</td>\n",
       "      <td id=\"T_e7f33_row4_col7\" class=\"data row4 col7\" >-0.095526</td>\n",
       "      <td id=\"T_e7f33_row4_col8\" class=\"data row4 col8\" >-0.076366</td>\n",
       "      <td id=\"T_e7f33_row4_col9\" class=\"data row4 col9\" >-0.003072</td>\n",
       "      <td id=\"T_e7f33_row4_col10\" class=\"data row4 col10\" >-0.074564</td>\n",
       "      <td id=\"T_e7f33_row4_col11\" class=\"data row4 col11\" >-0.040986</td>\n",
       "      <td id=\"T_e7f33_row4_col12\" class=\"data row4 col12\" >0.033958</td>\n",
       "      <td id=\"T_e7f33_row4_col13\" class=\"data row4 col13\" >-0.076825</td>\n",
       "      <td id=\"T_e7f33_row4_col14\" class=\"data row4 col14\" >0.008309</td>\n",
       "    </tr>\n",
       "    <tr>\n",
       "      <th id=\"T_e7f33_level0_row5\" class=\"row_heading level0 row5\" >Promo2</th>\n",
       "      <td id=\"T_e7f33_row5_col0\" class=\"data row5 col0\" >-0.227442</td>\n",
       "      <td id=\"T_e7f33_row5_col1\" class=\"data row5 col1\" >nan</td>\n",
       "      <td id=\"T_e7f33_row5_col2\" class=\"data row5 col2\" >-0.145098</td>\n",
       "      <td id=\"T_e7f33_row5_col3\" class=\"data row5 col3\" >-0.080671</td>\n",
       "      <td id=\"T_e7f33_row5_col4\" class=\"data row5 col4\" >-0.095603</td>\n",
       "      <td id=\"T_e7f33_row5_col5\" class=\"data row5 col5\" >1.000000</td>\n",
       "      <td id=\"T_e7f33_row5_col6\" class=\"data row5 col6\" >0.759193</td>\n",
       "      <td id=\"T_e7f33_row5_col7\" class=\"data row5 col7\" >0.999999</td>\n",
       "      <td id=\"T_e7f33_row5_col8\" class=\"data row5 col8\" >0.354597</td>\n",
       "      <td id=\"T_e7f33_row5_col9\" class=\"data row5 col9\" >0.639671</td>\n",
       "      <td id=\"T_e7f33_row5_col10\" class=\"data row5 col10\" >0.316365</td>\n",
       "      <td id=\"T_e7f33_row5_col11\" class=\"data row5 col11\" >-0.054265</td>\n",
       "      <td id=\"T_e7f33_row5_col12\" class=\"data row5 col12\" >-0.004188</td>\n",
       "      <td id=\"T_e7f33_row5_col13\" class=\"data row5 col13\" >0.092109</td>\n",
       "      <td id=\"T_e7f33_row5_col14\" class=\"data row5 col14\" >-0.165154</td>\n",
       "    </tr>\n",
       "    <tr>\n",
       "      <th id=\"T_e7f33_level0_row6\" class=\"row_heading level0 row6\" >Promo2SinceWeek</th>\n",
       "      <td id=\"T_e7f33_row6_col0\" class=\"data row6 col0\" >-0.149209</td>\n",
       "      <td id=\"T_e7f33_row6_col1\" class=\"data row6 col1\" >nan</td>\n",
       "      <td id=\"T_e7f33_row6_col2\" class=\"data row6 col2\" >-0.129552</td>\n",
       "      <td id=\"T_e7f33_row6_col3\" class=\"data row6 col3\" >-0.106586</td>\n",
       "      <td id=\"T_e7f33_row6_col4\" class=\"data row6 col4\" >-0.120918</td>\n",
       "      <td id=\"T_e7f33_row6_col5\" class=\"data row6 col5\" >0.759193</td>\n",
       "      <td id=\"T_e7f33_row6_col6\" class=\"data row6 col6\" >1.000000</td>\n",
       "      <td id=\"T_e7f33_row6_col7\" class=\"data row6 col7\" >0.759023</td>\n",
       "      <td id=\"T_e7f33_row6_col8\" class=\"data row6 col8\" >0.289821</td>\n",
       "      <td id=\"T_e7f33_row6_col9\" class=\"data row6 col9\" >0.482425</td>\n",
       "      <td id=\"T_e7f33_row6_col10\" class=\"data row6 col10\" >0.222642</td>\n",
       "      <td id=\"T_e7f33_row6_col11\" class=\"data row6 col11\" >-0.045898</td>\n",
       "      <td id=\"T_e7f33_row6_col12\" class=\"data row6 col12\" >-0.028984</td>\n",
       "      <td id=\"T_e7f33_row6_col13\" class=\"data row6 col13\" >0.072884</td>\n",
       "      <td id=\"T_e7f33_row6_col14\" class=\"data row6 col14\" >-0.074943</td>\n",
       "    </tr>\n",
       "    <tr>\n",
       "      <th id=\"T_e7f33_level0_row7\" class=\"row_heading level0 row7\" >Promo2SinceYear</th>\n",
       "      <td id=\"T_e7f33_row7_col0\" class=\"data row7 col0\" >-0.227411</td>\n",
       "      <td id=\"T_e7f33_row7_col1\" class=\"data row7 col1\" >nan</td>\n",
       "      <td id=\"T_e7f33_row7_col2\" class=\"data row7 col2\" >-0.145164</td>\n",
       "      <td id=\"T_e7f33_row7_col3\" class=\"data row7 col3\" >-0.080591</td>\n",
       "      <td id=\"T_e7f33_row7_col4\" class=\"data row7 col4\" >-0.095526</td>\n",
       "      <td id=\"T_e7f33_row7_col5\" class=\"data row7 col5\" >0.999999</td>\n",
       "      <td id=\"T_e7f33_row7_col6\" class=\"data row7 col6\" >0.759023</td>\n",
       "      <td id=\"T_e7f33_row7_col7\" class=\"data row7 col7\" >1.000000</td>\n",
       "      <td id=\"T_e7f33_row7_col8\" class=\"data row7 col8\" >0.354499</td>\n",
       "      <td id=\"T_e7f33_row7_col9\" class=\"data row7 col9\" >0.639640</td>\n",
       "      <td id=\"T_e7f33_row7_col10\" class=\"data row7 col10\" >0.316520</td>\n",
       "      <td id=\"T_e7f33_row7_col11\" class=\"data row7 col11\" >-0.054227</td>\n",
       "      <td id=\"T_e7f33_row7_col12\" class=\"data row7 col12\" >-0.004231</td>\n",
       "      <td id=\"T_e7f33_row7_col13\" class=\"data row7 col13\" >0.092064</td>\n",
       "      <td id=\"T_e7f33_row7_col14\" class=\"data row7 col14\" >-0.165183</td>\n",
       "    </tr>\n",
       "    <tr>\n",
       "      <th id=\"T_e7f33_level0_row8\" class=\"row_heading level0 row8\" >PromoInterval_Feb,May,Aug,Nov</th>\n",
       "      <td id=\"T_e7f33_row8_col0\" class=\"data row8 col0\" >-0.095782</td>\n",
       "      <td id=\"T_e7f33_row8_col1\" class=\"data row8 col1\" >nan</td>\n",
       "      <td id=\"T_e7f33_row8_col2\" class=\"data row8 col2\" >-0.051841</td>\n",
       "      <td id=\"T_e7f33_row8_col3\" class=\"data row8 col3\" >-0.024156</td>\n",
       "      <td id=\"T_e7f33_row8_col4\" class=\"data row8 col4\" >-0.076366</td>\n",
       "      <td id=\"T_e7f33_row8_col5\" class=\"data row8 col5\" >0.354597</td>\n",
       "      <td id=\"T_e7f33_row8_col6\" class=\"data row8 col6\" >0.289821</td>\n",
       "      <td id=\"T_e7f33_row8_col7\" class=\"data row8 col7\" >0.354499</td>\n",
       "      <td id=\"T_e7f33_row8_col8\" class=\"data row8 col8\" >1.000000</td>\n",
       "      <td id=\"T_e7f33_row8_col9\" class=\"data row8 col9\" >-0.238083</td>\n",
       "      <td id=\"T_e7f33_row8_col10\" class=\"data row8 col10\" >-0.117750</td>\n",
       "      <td id=\"T_e7f33_row8_col11\" class=\"data row8 col11\" >-0.022397</td>\n",
       "      <td id=\"T_e7f33_row8_col12\" class=\"data row8 col12\" >-0.010342</td>\n",
       "      <td id=\"T_e7f33_row8_col13\" class=\"data row8 col13\" >0.038756</td>\n",
       "      <td id=\"T_e7f33_row8_col14\" class=\"data row8 col14\" >-0.078659</td>\n",
       "    </tr>\n",
       "    <tr>\n",
       "      <th id=\"T_e7f33_level0_row9\" class=\"row_heading level0 row9\" >PromoInterval_Jan,Apr,Jul,Oct</th>\n",
       "      <td id=\"T_e7f33_row9_col0\" class=\"data row9 col0\" >-0.121390</td>\n",
       "      <td id=\"T_e7f33_row9_col1\" class=\"data row9 col1\" >nan</td>\n",
       "      <td id=\"T_e7f33_row9_col2\" class=\"data row9 col2\" >-0.087643</td>\n",
       "      <td id=\"T_e7f33_row9_col3\" class=\"data row9 col3\" >-0.051095</td>\n",
       "      <td id=\"T_e7f33_row9_col4\" class=\"data row9 col4\" >-0.003072</td>\n",
       "      <td id=\"T_e7f33_row9_col5\" class=\"data row9 col5\" >0.639671</td>\n",
       "      <td id=\"T_e7f33_row9_col6\" class=\"data row9 col6\" >0.482425</td>\n",
       "      <td id=\"T_e7f33_row9_col7\" class=\"data row9 col7\" >0.639640</td>\n",
       "      <td id=\"T_e7f33_row9_col8\" class=\"data row9 col8\" >-0.238083</td>\n",
       "      <td id=\"T_e7f33_row9_col9\" class=\"data row9 col9\" >1.000000</td>\n",
       "      <td id=\"T_e7f33_row9_col10\" class=\"data row9 col10\" >-0.212414</td>\n",
       "      <td id=\"T_e7f33_row9_col11\" class=\"data row9 col11\" >-0.033649</td>\n",
       "      <td id=\"T_e7f33_row9_col12\" class=\"data row9 col12\" >-0.037284</td>\n",
       "      <td id=\"T_e7f33_row9_col13\" class=\"data row9 col13\" >0.052538</td>\n",
       "      <td id=\"T_e7f33_row9_col14\" class=\"data row9 col14\" >-0.060585</td>\n",
       "    </tr>\n",
       "    <tr>\n",
       "      <th id=\"T_e7f33_level0_row10\" class=\"row_heading level0 row10\" >PromoInterval_Mar,Jun,Sept,Dec</th>\n",
       "      <td id=\"T_e7f33_row10_col0\" class=\"data row10 col0\" >-0.093064</td>\n",
       "      <td id=\"T_e7f33_row10_col1\" class=\"data row10 col1\" >nan</td>\n",
       "      <td id=\"T_e7f33_row10_col2\" class=\"data row10 col2\" >-0.053561</td>\n",
       "      <td id=\"T_e7f33_row10_col3\" class=\"data row10 col3\" >-0.031184</td>\n",
       "      <td id=\"T_e7f33_row10_col4\" class=\"data row10 col4\" >-0.074564</td>\n",
       "      <td id=\"T_e7f33_row10_col5\" class=\"data row10 col5\" >0.316365</td>\n",
       "      <td id=\"T_e7f33_row10_col6\" class=\"data row10 col6\" >0.222642</td>\n",
       "      <td id=\"T_e7f33_row10_col7\" class=\"data row10 col7\" >0.316520</td>\n",
       "      <td id=\"T_e7f33_row10_col8\" class=\"data row10 col8\" >-0.117750</td>\n",
       "      <td id=\"T_e7f33_row10_col9\" class=\"data row10 col9\" >-0.212414</td>\n",
       "      <td id=\"T_e7f33_row10_col10\" class=\"data row10 col10\" >1.000000</td>\n",
       "      <td id=\"T_e7f33_row10_col11\" class=\"data row10 col11\" >-0.015376</td>\n",
       "      <td id=\"T_e7f33_row10_col12\" class=\"data row10 col12\" >0.062455</td>\n",
       "      <td id=\"T_e7f33_row10_col13\" class=\"data row10 col13\" >0.032445</td>\n",
       "      <td id=\"T_e7f33_row10_col14\" class=\"data row10 col14\" >-0.100689</td>\n",
       "    </tr>\n",
       "    <tr>\n",
       "      <th id=\"T_e7f33_level0_row11\" class=\"row_heading level0 row11\" >StoreType_b</th>\n",
       "      <td id=\"T_e7f33_row11_col0\" class=\"data row11 col0\" >0.438327</td>\n",
       "      <td id=\"T_e7f33_row11_col1\" class=\"data row11 col1\" >nan</td>\n",
       "      <td id=\"T_e7f33_row11_col2\" class=\"data row11 col2\" >-0.070517</td>\n",
       "      <td id=\"T_e7f33_row11_col3\" class=\"data row11 col3\" >-0.040717</td>\n",
       "      <td id=\"T_e7f33_row11_col4\" class=\"data row11 col4\" >-0.040986</td>\n",
       "      <td id=\"T_e7f33_row11_col5\" class=\"data row11 col5\" >-0.054265</td>\n",
       "      <td id=\"T_e7f33_row11_col6\" class=\"data row11 col6\" >-0.045898</td>\n",
       "      <td id=\"T_e7f33_row11_col7\" class=\"data row11 col7\" >-0.054227</td>\n",
       "      <td id=\"T_e7f33_row11_col8\" class=\"data row11 col8\" >-0.022397</td>\n",
       "      <td id=\"T_e7f33_row11_col9\" class=\"data row11 col9\" >-0.033649</td>\n",
       "      <td id=\"T_e7f33_row11_col10\" class=\"data row11 col10\" >-0.015376</td>\n",
       "      <td id=\"T_e7f33_row11_col11\" class=\"data row11 col11\" >1.000000</td>\n",
       "      <td id=\"T_e7f33_row11_col12\" class=\"data row11 col12\" >-0.048679</td>\n",
       "      <td id=\"T_e7f33_row11_col13\" class=\"data row11 col13\" >-0.083814</td>\n",
       "      <td id=\"T_e7f33_row11_col14\" class=\"data row11 col14\" >0.165877</td>\n",
       "    </tr>\n",
       "    <tr>\n",
       "      <th id=\"T_e7f33_level0_row12\" class=\"row_heading level0 row12\" >StoreType_c</th>\n",
       "      <td id=\"T_e7f33_row12_col0\" class=\"data row12 col0\" >0.063682</td>\n",
       "      <td id=\"T_e7f33_row12_col1\" class=\"data row12 col1\" >nan</td>\n",
       "      <td id=\"T_e7f33_row12_col2\" class=\"data row12 col2\" >-0.095824</td>\n",
       "      <td id=\"T_e7f33_row12_col3\" class=\"data row12 col3\" >0.016800</td>\n",
       "      <td id=\"T_e7f33_row12_col4\" class=\"data row12 col4\" >0.033958</td>\n",
       "      <td id=\"T_e7f33_row12_col5\" class=\"data row12 col5\" >-0.004188</td>\n",
       "      <td id=\"T_e7f33_row12_col6\" class=\"data row12 col6\" >-0.028984</td>\n",
       "      <td id=\"T_e7f33_row12_col7\" class=\"data row12 col7\" >-0.004231</td>\n",
       "      <td id=\"T_e7f33_row12_col8\" class=\"data row12 col8\" >-0.010342</td>\n",
       "      <td id=\"T_e7f33_row12_col9\" class=\"data row12 col9\" >-0.037284</td>\n",
       "      <td id=\"T_e7f33_row12_col10\" class=\"data row12 col10\" >0.062455</td>\n",
       "      <td id=\"T_e7f33_row12_col11\" class=\"data row12 col11\" >-0.048679</td>\n",
       "      <td id=\"T_e7f33_row12_col12\" class=\"data row12 col12\" >1.000000</td>\n",
       "      <td id=\"T_e7f33_row12_col13\" class=\"data row12 col13\" >-0.263518</td>\n",
       "      <td id=\"T_e7f33_row12_col14\" class=\"data row12 col14\" >-0.002793</td>\n",
       "    </tr>\n",
       "    <tr>\n",
       "      <th id=\"T_e7f33_level0_row13\" class=\"row_heading level0 row13\" >StoreType_d</th>\n",
       "      <td id=\"T_e7f33_row13_col0\" class=\"data row13 col0\" >-0.286655</td>\n",
       "      <td id=\"T_e7f33_row13_col1\" class=\"data row13 col1\" >nan</td>\n",
       "      <td id=\"T_e7f33_row13_col2\" class=\"data row13 col2\" >0.131183</td>\n",
       "      <td id=\"T_e7f33_row13_col3\" class=\"data row13 col3\" >-0.042466</td>\n",
       "      <td id=\"T_e7f33_row13_col4\" class=\"data row13 col4\" >-0.076825</td>\n",
       "      <td id=\"T_e7f33_row13_col5\" class=\"data row13 col5\" >0.092109</td>\n",
       "      <td id=\"T_e7f33_row13_col6\" class=\"data row13 col6\" >0.072884</td>\n",
       "      <td id=\"T_e7f33_row13_col7\" class=\"data row13 col7\" >0.092064</td>\n",
       "      <td id=\"T_e7f33_row13_col8\" class=\"data row13 col8\" >0.038756</td>\n",
       "      <td id=\"T_e7f33_row13_col9\" class=\"data row13 col9\" >0.052538</td>\n",
       "      <td id=\"T_e7f33_row13_col10\" class=\"data row13 col10\" >0.032445</td>\n",
       "      <td id=\"T_e7f33_row13_col11\" class=\"data row13 col11\" >-0.083814</td>\n",
       "      <td id=\"T_e7f33_row13_col12\" class=\"data row13 col12\" >-0.263518</td>\n",
       "      <td id=\"T_e7f33_row13_col13\" class=\"data row13 col13\" >1.000000</td>\n",
       "      <td id=\"T_e7f33_row13_col14\" class=\"data row13 col14\" >-0.031226</td>\n",
       "    </tr>\n",
       "    <tr>\n",
       "      <th id=\"T_e7f33_level0_row14\" class=\"row_heading level0 row14\" >Sales</th>\n",
       "      <td id=\"T_e7f33_row14_col0\" class=\"data row14 col0\" >0.829794</td>\n",
       "      <td id=\"T_e7f33_row14_col1\" class=\"data row14 col1\" >nan</td>\n",
       "      <td id=\"T_e7f33_row14_col2\" class=\"data row14 col2\" >-0.041649</td>\n",
       "      <td id=\"T_e7f33_row14_col3\" class=\"data row14 col3\" >-0.021816</td>\n",
       "      <td id=\"T_e7f33_row14_col4\" class=\"data row14 col4\" >0.008309</td>\n",
       "      <td id=\"T_e7f33_row14_col5\" class=\"data row14 col5\" >-0.165154</td>\n",
       "      <td id=\"T_e7f33_row14_col6\" class=\"data row14 col6\" >-0.074943</td>\n",
       "      <td id=\"T_e7f33_row14_col7\" class=\"data row14 col7\" >-0.165183</td>\n",
       "      <td id=\"T_e7f33_row14_col8\" class=\"data row14 col8\" >-0.078659</td>\n",
       "      <td id=\"T_e7f33_row14_col9\" class=\"data row14 col9\" >-0.060585</td>\n",
       "      <td id=\"T_e7f33_row14_col10\" class=\"data row14 col10\" >-0.100689</td>\n",
       "      <td id=\"T_e7f33_row14_col11\" class=\"data row14 col11\" >0.165877</td>\n",
       "      <td id=\"T_e7f33_row14_col12\" class=\"data row14 col12\" >-0.002793</td>\n",
       "      <td id=\"T_e7f33_row14_col13\" class=\"data row14 col13\" >-0.031226</td>\n",
       "      <td id=\"T_e7f33_row14_col14\" class=\"data row14 col14\" >1.000000</td>\n",
       "    </tr>\n",
       "  </tbody>\n",
       "</table>\n"
      ],
      "text/plain": [
       "<pandas.io.formats.style.Styler at 0x7f924048d790>"
      ]
     },
     "execution_count": 344,
     "metadata": {},
     "output_type": "execute_result"
    }
   ],
   "source": [
    "corr = merged_df.corr()\n",
    "corr.style.background_gradient(cmap='coolwarm')"
   ]
  },
  {
   "cell_type": "markdown",
   "id": "ca0223a1",
   "metadata": {},
   "source": [
    "### By looking at the VIF score and Correlation Matrix We can see that there is multicollinearity and we will remove some features based on our observation to deal with this multicollinearity."
   ]
  },
  {
   "cell_type": "code",
   "execution_count": 345,
   "id": "492b4154",
   "metadata": {},
   "outputs": [],
   "source": [
    "merged_df = merged_df.drop(columns = 'PromoInterval_Jan,Apr,Jul,Oct')\n",
    "merged_df = merged_df.drop(columns = 'Promo2SinceYear')\n"
   ]
  },
  {
   "cell_type": "markdown",
   "id": "097398dc",
   "metadata": {},
   "source": [
    "**We can now see that the multicollinearity has been handled and we can fit our model to get a better score.**"
   ]
  },
  {
   "cell_type": "code",
   "execution_count": 346,
   "id": "fbed5a7e",
   "metadata": {},
   "outputs": [
    {
     "name": "stderr",
     "output_type": "stream",
     "text": [
      "/Users/haripurnapatre/opt/anaconda3/lib/python3.9/site-packages/statsmodels/regression/linear_model.py:1715: RuntimeWarning: invalid value encountered in double_scalars\n",
      "  return 1 - self.ssr/self.centered_tss\n"
     ]
    },
    {
     "data": {
      "text/html": [
       "<div>\n",
       "<style scoped>\n",
       "    .dataframe tbody tr th:only-of-type {\n",
       "        vertical-align: middle;\n",
       "    }\n",
       "\n",
       "    .dataframe tbody tr th {\n",
       "        vertical-align: top;\n",
       "    }\n",
       "\n",
       "    .dataframe thead th {\n",
       "        text-align: right;\n",
       "    }\n",
       "</style>\n",
       "<table border=\"1\" class=\"dataframe\">\n",
       "  <thead>\n",
       "    <tr style=\"text-align: right;\">\n",
       "      <th></th>\n",
       "      <th>Variable</th>\n",
       "      <th>VIF</th>\n",
       "    </tr>\n",
       "  </thead>\n",
       "  <tbody>\n",
       "    <tr>\n",
       "      <th>0</th>\n",
       "      <td>Customers</td>\n",
       "      <td>6.712530</td>\n",
       "    </tr>\n",
       "    <tr>\n",
       "      <th>1</th>\n",
       "      <td>Assortment</td>\n",
       "      <td>NaN</td>\n",
       "    </tr>\n",
       "    <tr>\n",
       "      <th>2</th>\n",
       "      <td>CompetitionDistance</td>\n",
       "      <td>1.118893</td>\n",
       "    </tr>\n",
       "    <tr>\n",
       "      <th>3</th>\n",
       "      <td>CompetitionOpenSinceMonth</td>\n",
       "      <td>2.648182</td>\n",
       "    </tr>\n",
       "    <tr>\n",
       "      <th>4</th>\n",
       "      <td>CompetitionOpenSinceYear</td>\n",
       "      <td>2.677006</td>\n",
       "    </tr>\n",
       "    <tr>\n",
       "      <th>5</th>\n",
       "      <td>Promo2</td>\n",
       "      <td>2.804565</td>\n",
       "    </tr>\n",
       "    <tr>\n",
       "      <th>6</th>\n",
       "      <td>Promo2SinceWeek</td>\n",
       "      <td>2.408337</td>\n",
       "    </tr>\n",
       "    <tr>\n",
       "      <th>7</th>\n",
       "      <td>PromoInterval_Feb,May,Aug,Nov</td>\n",
       "      <td>1.241739</td>\n",
       "    </tr>\n",
       "    <tr>\n",
       "      <th>8</th>\n",
       "      <td>PromoInterval_Mar,Jun,Sept,Dec</td>\n",
       "      <td>1.214216</td>\n",
       "    </tr>\n",
       "    <tr>\n",
       "      <th>9</th>\n",
       "      <td>StoreType_b</td>\n",
       "      <td>1.584909</td>\n",
       "    </tr>\n",
       "    <tr>\n",
       "      <th>10</th>\n",
       "      <td>StoreType_c</td>\n",
       "      <td>1.094569</td>\n",
       "    </tr>\n",
       "    <tr>\n",
       "      <th>11</th>\n",
       "      <td>StoreType_d</td>\n",
       "      <td>1.434421</td>\n",
       "    </tr>\n",
       "    <tr>\n",
       "      <th>12</th>\n",
       "      <td>Sales</td>\n",
       "      <td>4.965989</td>\n",
       "    </tr>\n",
       "  </tbody>\n",
       "</table>\n",
       "</div>"
      ],
      "text/plain": [
       "                          Variable       VIF\n",
       "0                        Customers  6.712530\n",
       "1                       Assortment       NaN\n",
       "2              CompetitionDistance  1.118893\n",
       "3        CompetitionOpenSinceMonth  2.648182\n",
       "4         CompetitionOpenSinceYear  2.677006\n",
       "5                           Promo2  2.804565\n",
       "6                  Promo2SinceWeek  2.408337\n",
       "7    PromoInterval_Feb,May,Aug,Nov  1.241739\n",
       "8   PromoInterval_Mar,Jun,Sept,Dec  1.214216\n",
       "9                      StoreType_b  1.584909\n",
       "10                     StoreType_c  1.094569\n",
       "11                     StoreType_d  1.434421\n",
       "12                           Sales  4.965989"
      ]
     },
     "execution_count": 346,
     "metadata": {},
     "output_type": "execute_result"
    }
   ],
   "source": [
    "compute_vif(merged_df.columns)"
   ]
  },
  {
   "cell_type": "code",
   "execution_count": 347,
   "id": "0ec99b39",
   "metadata": {},
   "outputs": [],
   "source": [
    "merged_df = merged_df.drop(columns = 'Sales')"
   ]
  },
  {
   "cell_type": "code",
   "execution_count": 348,
   "id": "acfb375f",
   "metadata": {},
   "outputs": [],
   "source": [
    "X = merged_df\n",
    "X_train, X_test, y_train, y_test = train_test_split(X, y, test_size=0.4,\n",
    "                                                    random_state=1)"
   ]
  },
  {
   "cell_type": "code",
   "execution_count": 355,
   "id": "924f12c4",
   "metadata": {},
   "outputs": [
    {
     "name": "stdout",
     "output_type": "stream",
     "text": [
      "Adjusted R Squared: 79.22887478330163\n"
     ]
    }
   ],
   "source": [
    "linear = LinearRegression()\n",
    "linear.fit(X_train, y_train)\n",
    "r2 = linear.score(X_test, y_test)\n",
    "print('Adjusted R Squared:',linear.score(X_test, y_test) * 100/1 - (1-r2)*(len(y_train)-1)/(len(y_train)-X_train.shape[1]-1))"
   ]
  },
  {
   "cell_type": "markdown",
   "id": "c511dea5",
   "metadata": {},
   "source": [
    "### By removing multicollinearity using VIF and Correlation Matrix our model score increased by 2 %."
   ]
  },
  {
   "cell_type": "code",
   "execution_count": 350,
   "id": "1fb57995",
   "metadata": {},
   "outputs": [
    {
     "name": "stdout",
     "output_type": "stream",
     "text": [
      "Adjusted R Squared Per fold : 0.7449026188745961\n",
      "Adjusted R Squared Per fold : 0.7436795286680427\n",
      "Adjusted R Squared Per fold : 0.7513830034927704\n",
      "Adjusted R Squared Per fold : 0.7384110866706577\n",
      "Adjusted R Squared Per fold : 0.721709496235146\n",
      "Adjusted R Squared of Linear Regression model is : 74.00171467882424\n"
     ]
    },
    {
     "name": "stderr",
     "output_type": "stream",
     "text": [
      "/Users/haripurnapatre/opt/anaconda3/lib/python3.9/site-packages/sklearn/model_selection/_split.py:676: UserWarning: The least populated class in y has only 1 members, which is less than n_splits=5.\n",
      "  warnings.warn(\n"
     ]
    }
   ],
   "source": [
    "aucs = []\n",
    "y_cat = pd.cut(y_train, 10, labels=range(10))\n",
    "for train_index,test_index in StratifiedKFold(5).split(X_train, y_cat):\n",
    "    x1_train, x1_test, y1_train, y1_test = X_train.iloc[train_index], X_train.iloc[test_index], y_train.iloc[train_index], y_train.iloc[test_index]\n",
    "    linear.fit(x1_train, y1_train)\n",
    "    y1_pred = linear.predict(x1_train)\n",
    "    r2score = r2_score(y1_pred, y1_train)\n",
    "    adjusted_r_squared = 1 - (1-r2score)*(len(y1_train)-1)/(len(y1_train)-x1_train.shape[1]-1)\n",
    "    print(\"Adjusted R Squared Per fold :\", adjusted_r_squared)\n",
    "    aucs.append(adjusted_r_squared)\n",
    "print(\"Adjusted R Squared of Linear Regression model is :\",np.mean(aucs) * 100)"
   ]
  },
  {
   "cell_type": "markdown",
   "id": "69c6ad25",
   "metadata": {},
   "source": [
    "### Ridge Regression"
   ]
  },
  {
   "cell_type": "code",
   "execution_count": 351,
   "id": "70a067e8",
   "metadata": {},
   "outputs": [
    {
     "name": "stdout",
     "output_type": "stream",
     "text": [
      "Adjusted R Squared Per fold : 0.7436777340762248\n",
      "Adjusted R Squared Per fold : 0.7423275427744707\n",
      "Adjusted R Squared Per fold : 0.7499723634703508\n",
      "Adjusted R Squared Per fold : 0.7370715947252082\n",
      "Adjusted R Squared Per fold : 0.7202864944339532\n",
      "Adjusted R Squared of Ridge Regression model is : 73.86671458960414\n"
     ]
    },
    {
     "name": "stderr",
     "output_type": "stream",
     "text": [
      "/Users/haripurnapatre/opt/anaconda3/lib/python3.9/site-packages/sklearn/model_selection/_split.py:676: UserWarning: The least populated class in y has only 1 members, which is less than n_splits=5.\n",
      "  warnings.warn(\n"
     ]
    }
   ],
   "source": [
    "from sklearn.linear_model import Ridge\n",
    "from sklearn.metrics import r2_score\n",
    "aucs2 = []\n",
    "clf = Ridge(alpha=.90)\n",
    "y_cat = pd.cut(y_train, 10, labels=range(10))\n",
    "for train_index,test_index in StratifiedKFold(5).split(X_train, y_cat):\n",
    "    x1_train, x1_test, y1_train, y1_test = X_train.iloc[train_index], X_train.iloc[test_index], y_train.iloc[train_index], y_train.iloc[test_index]\n",
    "    clf.fit(x1_train, y1_train)\n",
    "    y1_pred = clf.predict(x1_train)\n",
    "    r2score = r2_score(y1_pred, y1_train)\n",
    "    adjusted_r_squared = 1 - (1-r2score)*(len(y1_train)-1)/(len(y1_train)-x1_train.shape[1]-1)\n",
    "    print(\"Adjusted R Squared Per fold :\", adjusted_r_squared)\n",
    "    aucs2.append(adjusted_r_squared)\n",
    "print(\"Adjusted R Squared of Ridge Regression model is :\",np.mean(aucs2) * 100)"
   ]
  },
  {
   "cell_type": "markdown",
   "id": "15fb1772",
   "metadata": {},
   "source": [
    "### Random Forest Regression"
   ]
  },
  {
   "cell_type": "markdown",
   "id": "aa9f1687",
   "metadata": {},
   "source": [
    "**We can see that Random forest regressor overfits the data.**"
   ]
  },
  {
   "cell_type": "code",
   "execution_count": 352,
   "id": "dc7d4c1a",
   "metadata": {},
   "outputs": [
    {
     "name": "stderr",
     "output_type": "stream",
     "text": [
      "/Users/haripurnapatre/opt/anaconda3/lib/python3.9/site-packages/sklearn/model_selection/_split.py:676: UserWarning: The least populated class in y has only 1 members, which is less than n_splits=5.\n",
      "  warnings.warn(\n"
     ]
    },
    {
     "name": "stdout",
     "output_type": "stream",
     "text": [
      "Adjusted R Squared Per fold : 0.9630865156267661\n",
      "Adjusted R Squared Per fold : 0.9603158310598681\n",
      "Adjusted R Squared Per fold : 0.9639926876652672\n",
      "Adjusted R Squared Per fold : 0.9578497347106433\n",
      "Adjusted R Squared Per fold : 0.9597938434019178\n",
      "Adjusted R Squared of Random Forest Regression model is : 96.10077224928926\n"
     ]
    }
   ],
   "source": [
    "from sklearn.ensemble import RandomForestRegressor\n",
    "from sklearn.metrics import r2_score\n",
    "rf = RandomForestRegressor()\n",
    "aucs3 = []\n",
    "y_cat = pd.cut(y_train, 10, labels=range(10))\n",
    "for train_index,test_index in StratifiedKFold(5).split(X_train, y_cat):\n",
    "    x1_train, x1_test, y1_train, y1_test = X_train.iloc[train_index], X_train.iloc[test_index], y_train.iloc[train_index], y_train.iloc[test_index]\n",
    "    rf.fit(x1_train, y1_train)\n",
    "    y1_pred = rf.predict(x1_train)\n",
    "    r2score = r2_score(y1_pred, y1_train)\n",
    "    adjusted_r_squared = 1 - (1-r2score)*(len(y1_train)-1)/(len(y1_train)-x1_train.shape[1]-1)\n",
    "    print(\"Adjusted R Squared Per fold :\", adjusted_r_squared)\n",
    "    aucs3.append(adjusted_r_squared)\n",
    "print(\"Adjusted R Squared of Random Forest Regression model is :\",np.mean(aucs3) * 100)"
   ]
  },
  {
   "cell_type": "markdown",
   "id": "c8450bc2",
   "metadata": {},
   "source": [
    "### XG Boost Regression"
   ]
  },
  {
   "cell_type": "markdown",
   "id": "f9c0cfc8",
   "metadata": {},
   "source": [
    "**We can see that XGBoost regressor overfits the data heavily.**"
   ]
  },
  {
   "cell_type": "code",
   "execution_count": 356,
   "id": "dcc73c74",
   "metadata": {},
   "outputs": [
    {
     "name": "stderr",
     "output_type": "stream",
     "text": [
      "/Users/haripurnapatre/opt/anaconda3/lib/python3.9/site-packages/sklearn/model_selection/_split.py:676: UserWarning: The least populated class in y has only 1 members, which is less than n_splits=5.\n",
      "  warnings.warn(\n"
     ]
    },
    {
     "name": "stdout",
     "output_type": "stream",
     "text": [
      "Adjusted R Squared Per fold : 0.9992961983569587\n",
      "Adjusted R Squared Per fold : 0.9992466775804443\n",
      "Adjusted R Squared Per fold : 0.9993152386355367\n",
      "Adjusted R Squared Per fold : 0.9994206574889115\n",
      "Adjusted R Squared Per fold : 0.9991944386660156\n",
      "Adjusted R Squared of XG Boost Regression model is : 99.92946421455734\n"
     ]
    }
   ],
   "source": [
    "from xgboost import XGBRegressor\n",
    "from sklearn.metrics import r2_score\n",
    "model = XGBRegressor()\n",
    "aucs4 = []\n",
    "y_cat = pd.cut(y_train, 10, labels=range(10))\n",
    "for train_index,test_index in StratifiedKFold(5).split(X_train, y_cat):\n",
    "    x1_train, x1_test, y1_train, y1_test = X_train.iloc[train_index], X_train.iloc[test_index], y_train.iloc[train_index], y_train.iloc[test_index]\n",
    "    model.fit(x1_train, y1_train)\n",
    "    y1_pred = model.predict(x1_train)\n",
    "    r2score = r2_score(y1_pred, y1_train)\n",
    "    adjusted_r_squared = 1 - (1-r2score)*(len(y1_train)-1)/(len(y1_train)-x1_train.shape[1]-1)\n",
    "    print(\"Adjusted R Squared Per fold :\", adjusted_r_squared)\n",
    "    aucs4.append(adjusted_r_squared)\n",
    "print(\"Adjusted R Squared of XG Boost Regression model is :\",np.mean(aucs4) * 100)"
   ]
  },
  {
   "cell_type": "markdown",
   "id": "69dbc7c4",
   "metadata": {},
   "source": [
    "## We can see that linear regression and Ridge Regression works best on the data to give the most Generalized model compared to XGBoost and Random Forest that overfit the data."
   ]
  },
  {
   "cell_type": "code",
   "execution_count": 357,
   "id": "bc5cca2c",
   "metadata": {},
   "outputs": [
    {
     "name": "stdout",
     "output_type": "stream",
     "text": [
      "Adjusted R Squared of Linear Regression model is : 74.00171467882424\n",
      "Adjusted R Squared of Ridge Regression model is : 73.86671458960414\n",
      "Adjusted R Squared of Random Forest Regression model is : 96.10077224928926\n",
      "Adjusted R Squared of XG Boost Regression model is : 99.92946421455734\n"
     ]
    }
   ],
   "source": [
    "print(\"Adjusted R Squared of Linear Regression model is :\",np.mean(aucs) * 100)\n",
    "print(\"Adjusted R Squared of Ridge Regression model is :\",np.mean(aucs2) * 100)\n",
    "print(\"Adjusted R Squared of Random Forest Regression model is :\",np.mean(aucs3) * 100)\n",
    "print(\"Adjusted R Squared of XG Boost Regression model is :\",np.mean(aucs4) * 100)"
   ]
  }
 ],
 "metadata": {
  "kernelspec": {
   "display_name": "Python 3 (ipykernel)",
   "language": "python",
   "name": "python3"
  },
  "language_info": {
   "codemirror_mode": {
    "name": "ipython",
    "version": 3
   },
   "file_extension": ".py",
   "mimetype": "text/x-python",
   "name": "python",
   "nbconvert_exporter": "python",
   "pygments_lexer": "ipython3",
   "version": "3.9.7"
  }
 },
 "nbformat": 4,
 "nbformat_minor": 5
}
